{
 "cells": [
  {
   "cell_type": "markdown",
   "metadata": {},
   "source": [
    "Importing necessary libraries and packages"
   ]
  },
  {
   "cell_type": "code",
   "execution_count": 1,
   "metadata": {
    "_uuid": "0f935bddcc5ca02702578e712bf7f396ba7154ef"
   },
   "outputs": [
    {
     "name": "stderr",
     "output_type": "stream",
     "text": [
      "Using TensorFlow backend.\n",
      "C:\\Users\\lucif\\Anaconda3\\envs\\TF\\lib\\site-packages\\tensorflow\\python\\framework\\dtypes.py:523: FutureWarning: Passing (type, 1) or '1type' as a synonym of type is deprecated; in a future version of numpy, it will be understood as (type, (1,)) / '(1,)type'.\n",
      "  _np_qint8 = np.dtype([(\"qint8\", np.int8, 1)])\n",
      "C:\\Users\\lucif\\Anaconda3\\envs\\TF\\lib\\site-packages\\tensorflow\\python\\framework\\dtypes.py:524: FutureWarning: Passing (type, 1) or '1type' as a synonym of type is deprecated; in a future version of numpy, it will be understood as (type, (1,)) / '(1,)type'.\n",
      "  _np_quint8 = np.dtype([(\"quint8\", np.uint8, 1)])\n",
      "C:\\Users\\lucif\\Anaconda3\\envs\\TF\\lib\\site-packages\\tensorflow\\python\\framework\\dtypes.py:525: FutureWarning: Passing (type, 1) or '1type' as a synonym of type is deprecated; in a future version of numpy, it will be understood as (type, (1,)) / '(1,)type'.\n",
      "  _np_qint16 = np.dtype([(\"qint16\", np.int16, 1)])\n",
      "C:\\Users\\lucif\\Anaconda3\\envs\\TF\\lib\\site-packages\\tensorflow\\python\\framework\\dtypes.py:526: FutureWarning: Passing (type, 1) or '1type' as a synonym of type is deprecated; in a future version of numpy, it will be understood as (type, (1,)) / '(1,)type'.\n",
      "  _np_quint16 = np.dtype([(\"quint16\", np.uint16, 1)])\n",
      "C:\\Users\\lucif\\Anaconda3\\envs\\TF\\lib\\site-packages\\tensorflow\\python\\framework\\dtypes.py:527: FutureWarning: Passing (type, 1) or '1type' as a synonym of type is deprecated; in a future version of numpy, it will be understood as (type, (1,)) / '(1,)type'.\n",
      "  _np_qint32 = np.dtype([(\"qint32\", np.int32, 1)])\n",
      "C:\\Users\\lucif\\Anaconda3\\envs\\TF\\lib\\site-packages\\tensorflow\\python\\framework\\dtypes.py:532: FutureWarning: Passing (type, 1) or '1type' as a synonym of type is deprecated; in a future version of numpy, it will be understood as (type, (1,)) / '(1,)type'.\n",
      "  np_resource = np.dtype([(\"resource\", np.ubyte, 1)])\n"
     ]
    }
   ],
   "source": [
    "import pandas as pd\n",
    "import numpy as np\n",
    "\n",
    "import matplotlib.pyplot as plt\n",
    "import seaborn as sns\n",
    "\n",
    "from sklearn.model_selection import train_test_split\n",
    "from sklearn.metrics import confusion_matrix\n",
    "\n",
    "from keras.models import Sequential\n",
    "from keras.layers import Conv2D, Lambda, MaxPooling2D # convolution layers\n",
    "from keras.layers import Dense, Dropout, Flatten # core layers\n",
    "from keras import layers\n",
    "\n",
    "from keras.layers.normalization import BatchNormalization\n",
    "\n",
    "from keras.preprocessing.image import ImageDataGenerator\n",
    "\n",
    "from keras.utils.np_utils import to_categorical"
   ]
  },
  {
   "cell_type": "code",
   "execution_count": 2,
   "metadata": {},
   "outputs": [
    {
     "name": "stdout",
     "output_type": "stream",
     "text": [
      "['4 category image', '7 day time series', 'aclImdb', 'calcofi.zip', 'compresive_strength_concrete.csv', 'CV dataset', 'data.csv', 'DEV', 'Devnagiri', 'dev_data.csv', 'Hitters.csv', 'Iris.csv', 'men-women-classification', 'mnist_test.csv', 'mnist_train.csv', 'mushrooms.csv', 'pulsar_stars.csv', 'Shark Tank Companies.csv', 'Sharktankpitchesdeals.csv', 'singapore-residents-by-age-group-ethnic-group-and-sex-end-june-annual.csv', 'Summary of Weather.csv', 'Synth_Credit_Card.csv', 'task', 'test.csv', 'train.csv', 'WE', 'Weather Station Locations.csv', 'weatherHistory.csv']\n"
     ]
    }
   ],
   "source": [
    "import os\n",
    "print(os.listdir('./Datasets'))"
   ]
  },
  {
   "cell_type": "markdown",
   "metadata": {},
   "source": [
    "Importing the dataset"
   ]
  },
  {
   "cell_type": "code",
   "execution_count": 3,
   "metadata": {},
   "outputs": [
    {
     "name": "stdout",
     "output_type": "stream",
     "text": [
      "Data are Ready!!\n"
     ]
    }
   ],
   "source": [
    "train = pd.read_csv('./Datasets/mnist_train.csv')\n",
    "test = pd.read_csv('./Datasets/mnist_test.csv')\n",
    "print(\"Data are Ready!!\")"
   ]
  },
  {
   "cell_type": "code",
   "execution_count": 4,
   "metadata": {},
   "outputs": [
    {
     "name": "stdout",
     "output_type": "stream",
     "text": [
      "Training data size is (60000, 785)\n",
      "Testing data size is (10000, 785)\n"
     ]
    }
   ],
   "source": [
    "print(f\"Training data size is {train.shape}\\nTesting data size is {test.shape}\")"
   ]
  },
  {
   "cell_type": "code",
   "execution_count": 5,
   "metadata": {},
   "outputs": [
    {
     "data": {
      "text/html": [
       "<div>\n",
       "<style scoped>\n",
       "    .dataframe tbody tr th:only-of-type {\n",
       "        vertical-align: middle;\n",
       "    }\n",
       "\n",
       "    .dataframe tbody tr th {\n",
       "        vertical-align: top;\n",
       "    }\n",
       "\n",
       "    .dataframe thead th {\n",
       "        text-align: right;\n",
       "    }\n",
       "</style>\n",
       "<table border=\"1\" class=\"dataframe\">\n",
       "  <thead>\n",
       "    <tr style=\"text-align: right;\">\n",
       "      <th></th>\n",
       "      <th>label</th>\n",
       "      <th>1x1</th>\n",
       "      <th>1x2</th>\n",
       "      <th>1x3</th>\n",
       "      <th>1x4</th>\n",
       "      <th>1x5</th>\n",
       "      <th>1x6</th>\n",
       "      <th>1x7</th>\n",
       "      <th>1x8</th>\n",
       "      <th>1x9</th>\n",
       "      <th>...</th>\n",
       "      <th>28x19</th>\n",
       "      <th>28x20</th>\n",
       "      <th>28x21</th>\n",
       "      <th>28x22</th>\n",
       "      <th>28x23</th>\n",
       "      <th>28x24</th>\n",
       "      <th>28x25</th>\n",
       "      <th>28x26</th>\n",
       "      <th>28x27</th>\n",
       "      <th>28x28</th>\n",
       "    </tr>\n",
       "  </thead>\n",
       "  <tbody>\n",
       "    <tr>\n",
       "      <th>0</th>\n",
       "      <td>7</td>\n",
       "      <td>0</td>\n",
       "      <td>0</td>\n",
       "      <td>0</td>\n",
       "      <td>0</td>\n",
       "      <td>0</td>\n",
       "      <td>0</td>\n",
       "      <td>0</td>\n",
       "      <td>0</td>\n",
       "      <td>0</td>\n",
       "      <td>...</td>\n",
       "      <td>0</td>\n",
       "      <td>0</td>\n",
       "      <td>0</td>\n",
       "      <td>0</td>\n",
       "      <td>0</td>\n",
       "      <td>0</td>\n",
       "      <td>0</td>\n",
       "      <td>0</td>\n",
       "      <td>0</td>\n",
       "      <td>0</td>\n",
       "    </tr>\n",
       "    <tr>\n",
       "      <th>1</th>\n",
       "      <td>2</td>\n",
       "      <td>0</td>\n",
       "      <td>0</td>\n",
       "      <td>0</td>\n",
       "      <td>0</td>\n",
       "      <td>0</td>\n",
       "      <td>0</td>\n",
       "      <td>0</td>\n",
       "      <td>0</td>\n",
       "      <td>0</td>\n",
       "      <td>...</td>\n",
       "      <td>0</td>\n",
       "      <td>0</td>\n",
       "      <td>0</td>\n",
       "      <td>0</td>\n",
       "      <td>0</td>\n",
       "      <td>0</td>\n",
       "      <td>0</td>\n",
       "      <td>0</td>\n",
       "      <td>0</td>\n",
       "      <td>0</td>\n",
       "    </tr>\n",
       "    <tr>\n",
       "      <th>2</th>\n",
       "      <td>1</td>\n",
       "      <td>0</td>\n",
       "      <td>0</td>\n",
       "      <td>0</td>\n",
       "      <td>0</td>\n",
       "      <td>0</td>\n",
       "      <td>0</td>\n",
       "      <td>0</td>\n",
       "      <td>0</td>\n",
       "      <td>0</td>\n",
       "      <td>...</td>\n",
       "      <td>0</td>\n",
       "      <td>0</td>\n",
       "      <td>0</td>\n",
       "      <td>0</td>\n",
       "      <td>0</td>\n",
       "      <td>0</td>\n",
       "      <td>0</td>\n",
       "      <td>0</td>\n",
       "      <td>0</td>\n",
       "      <td>0</td>\n",
       "    </tr>\n",
       "    <tr>\n",
       "      <th>3</th>\n",
       "      <td>0</td>\n",
       "      <td>0</td>\n",
       "      <td>0</td>\n",
       "      <td>0</td>\n",
       "      <td>0</td>\n",
       "      <td>0</td>\n",
       "      <td>0</td>\n",
       "      <td>0</td>\n",
       "      <td>0</td>\n",
       "      <td>0</td>\n",
       "      <td>...</td>\n",
       "      <td>0</td>\n",
       "      <td>0</td>\n",
       "      <td>0</td>\n",
       "      <td>0</td>\n",
       "      <td>0</td>\n",
       "      <td>0</td>\n",
       "      <td>0</td>\n",
       "      <td>0</td>\n",
       "      <td>0</td>\n",
       "      <td>0</td>\n",
       "    </tr>\n",
       "    <tr>\n",
       "      <th>4</th>\n",
       "      <td>4</td>\n",
       "      <td>0</td>\n",
       "      <td>0</td>\n",
       "      <td>0</td>\n",
       "      <td>0</td>\n",
       "      <td>0</td>\n",
       "      <td>0</td>\n",
       "      <td>0</td>\n",
       "      <td>0</td>\n",
       "      <td>0</td>\n",
       "      <td>...</td>\n",
       "      <td>0</td>\n",
       "      <td>0</td>\n",
       "      <td>0</td>\n",
       "      <td>0</td>\n",
       "      <td>0</td>\n",
       "      <td>0</td>\n",
       "      <td>0</td>\n",
       "      <td>0</td>\n",
       "      <td>0</td>\n",
       "      <td>0</td>\n",
       "    </tr>\n",
       "    <tr>\n",
       "      <th>...</th>\n",
       "      <td>...</td>\n",
       "      <td>...</td>\n",
       "      <td>...</td>\n",
       "      <td>...</td>\n",
       "      <td>...</td>\n",
       "      <td>...</td>\n",
       "      <td>...</td>\n",
       "      <td>...</td>\n",
       "      <td>...</td>\n",
       "      <td>...</td>\n",
       "      <td>...</td>\n",
       "      <td>...</td>\n",
       "      <td>...</td>\n",
       "      <td>...</td>\n",
       "      <td>...</td>\n",
       "      <td>...</td>\n",
       "      <td>...</td>\n",
       "      <td>...</td>\n",
       "      <td>...</td>\n",
       "      <td>...</td>\n",
       "      <td>...</td>\n",
       "    </tr>\n",
       "    <tr>\n",
       "      <th>9995</th>\n",
       "      <td>2</td>\n",
       "      <td>0</td>\n",
       "      <td>0</td>\n",
       "      <td>0</td>\n",
       "      <td>0</td>\n",
       "      <td>0</td>\n",
       "      <td>0</td>\n",
       "      <td>0</td>\n",
       "      <td>0</td>\n",
       "      <td>0</td>\n",
       "      <td>...</td>\n",
       "      <td>0</td>\n",
       "      <td>0</td>\n",
       "      <td>0</td>\n",
       "      <td>0</td>\n",
       "      <td>0</td>\n",
       "      <td>0</td>\n",
       "      <td>0</td>\n",
       "      <td>0</td>\n",
       "      <td>0</td>\n",
       "      <td>0</td>\n",
       "    </tr>\n",
       "    <tr>\n",
       "      <th>9996</th>\n",
       "      <td>3</td>\n",
       "      <td>0</td>\n",
       "      <td>0</td>\n",
       "      <td>0</td>\n",
       "      <td>0</td>\n",
       "      <td>0</td>\n",
       "      <td>0</td>\n",
       "      <td>0</td>\n",
       "      <td>0</td>\n",
       "      <td>0</td>\n",
       "      <td>...</td>\n",
       "      <td>0</td>\n",
       "      <td>0</td>\n",
       "      <td>0</td>\n",
       "      <td>0</td>\n",
       "      <td>0</td>\n",
       "      <td>0</td>\n",
       "      <td>0</td>\n",
       "      <td>0</td>\n",
       "      <td>0</td>\n",
       "      <td>0</td>\n",
       "    </tr>\n",
       "    <tr>\n",
       "      <th>9997</th>\n",
       "      <td>4</td>\n",
       "      <td>0</td>\n",
       "      <td>0</td>\n",
       "      <td>0</td>\n",
       "      <td>0</td>\n",
       "      <td>0</td>\n",
       "      <td>0</td>\n",
       "      <td>0</td>\n",
       "      <td>0</td>\n",
       "      <td>0</td>\n",
       "      <td>...</td>\n",
       "      <td>0</td>\n",
       "      <td>0</td>\n",
       "      <td>0</td>\n",
       "      <td>0</td>\n",
       "      <td>0</td>\n",
       "      <td>0</td>\n",
       "      <td>0</td>\n",
       "      <td>0</td>\n",
       "      <td>0</td>\n",
       "      <td>0</td>\n",
       "    </tr>\n",
       "    <tr>\n",
       "      <th>9998</th>\n",
       "      <td>5</td>\n",
       "      <td>0</td>\n",
       "      <td>0</td>\n",
       "      <td>0</td>\n",
       "      <td>0</td>\n",
       "      <td>0</td>\n",
       "      <td>0</td>\n",
       "      <td>0</td>\n",
       "      <td>0</td>\n",
       "      <td>0</td>\n",
       "      <td>...</td>\n",
       "      <td>0</td>\n",
       "      <td>0</td>\n",
       "      <td>0</td>\n",
       "      <td>0</td>\n",
       "      <td>0</td>\n",
       "      <td>0</td>\n",
       "      <td>0</td>\n",
       "      <td>0</td>\n",
       "      <td>0</td>\n",
       "      <td>0</td>\n",
       "    </tr>\n",
       "    <tr>\n",
       "      <th>9999</th>\n",
       "      <td>6</td>\n",
       "      <td>0</td>\n",
       "      <td>0</td>\n",
       "      <td>0</td>\n",
       "      <td>0</td>\n",
       "      <td>0</td>\n",
       "      <td>0</td>\n",
       "      <td>0</td>\n",
       "      <td>0</td>\n",
       "      <td>0</td>\n",
       "      <td>...</td>\n",
       "      <td>0</td>\n",
       "      <td>0</td>\n",
       "      <td>0</td>\n",
       "      <td>0</td>\n",
       "      <td>0</td>\n",
       "      <td>0</td>\n",
       "      <td>0</td>\n",
       "      <td>0</td>\n",
       "      <td>0</td>\n",
       "      <td>0</td>\n",
       "    </tr>\n",
       "  </tbody>\n",
       "</table>\n",
       "<p>10000 rows × 785 columns</p>\n",
       "</div>"
      ],
      "text/plain": [
       "      label  1x1  1x2  1x3  1x4  1x5  1x6  1x7  1x8  1x9  ...  28x19  28x20  \\\n",
       "0         7    0    0    0    0    0    0    0    0    0  ...      0      0   \n",
       "1         2    0    0    0    0    0    0    0    0    0  ...      0      0   \n",
       "2         1    0    0    0    0    0    0    0    0    0  ...      0      0   \n",
       "3         0    0    0    0    0    0    0    0    0    0  ...      0      0   \n",
       "4         4    0    0    0    0    0    0    0    0    0  ...      0      0   \n",
       "...     ...  ...  ...  ...  ...  ...  ...  ...  ...  ...  ...    ...    ...   \n",
       "9995      2    0    0    0    0    0    0    0    0    0  ...      0      0   \n",
       "9996      3    0    0    0    0    0    0    0    0    0  ...      0      0   \n",
       "9997      4    0    0    0    0    0    0    0    0    0  ...      0      0   \n",
       "9998      5    0    0    0    0    0    0    0    0    0  ...      0      0   \n",
       "9999      6    0    0    0    0    0    0    0    0    0  ...      0      0   \n",
       "\n",
       "      28x21  28x22  28x23  28x24  28x25  28x26  28x27  28x28  \n",
       "0         0      0      0      0      0      0      0      0  \n",
       "1         0      0      0      0      0      0      0      0  \n",
       "2         0      0      0      0      0      0      0      0  \n",
       "3         0      0      0      0      0      0      0      0  \n",
       "4         0      0      0      0      0      0      0      0  \n",
       "...     ...    ...    ...    ...    ...    ...    ...    ...  \n",
       "9995      0      0      0      0      0      0      0      0  \n",
       "9996      0      0      0      0      0      0      0      0  \n",
       "9997      0      0      0      0      0      0      0      0  \n",
       "9998      0      0      0      0      0      0      0      0  \n",
       "9999      0      0      0      0      0      0      0      0  \n",
       "\n",
       "[10000 rows x 785 columns]"
      ]
     },
     "execution_count": 5,
     "metadata": {},
     "output_type": "execute_result"
    }
   ],
   "source": [
    "test"
   ]
  },
  {
   "cell_type": "markdown",
   "metadata": {},
   "source": [
    "Separating dependent and independent variables"
   ]
  },
  {
   "cell_type": "code",
   "execution_count": 6,
   "metadata": {},
   "outputs": [],
   "source": [
    "X = train.drop(['label'], 1).values\n",
    "y = train['label'].values\n",
    "test_y=test['label'].values\n",
    "test_x = test.drop(['label'],1).values"
   ]
  },
  {
   "cell_type": "code",
   "execution_count": 7,
   "metadata": {},
   "outputs": [
    {
     "data": {
      "text/plain": [
       "(60000, 784)"
      ]
     },
     "execution_count": 7,
     "metadata": {},
     "output_type": "execute_result"
    }
   ],
   "source": [
    "X.shape"
   ]
  },
  {
   "cell_type": "markdown",
   "metadata": {},
   "source": [
    "Normalizing"
   ]
  },
  {
   "cell_type": "code",
   "execution_count": 8,
   "metadata": {},
   "outputs": [],
   "source": [
    "X = X / 255.0\n",
    "test_x = test_x / 255.0"
   ]
  },
  {
   "cell_type": "markdown",
   "metadata": {},
   "source": [
    "reshaping the data in the form of image for convolution layer(s)"
   ]
  },
  {
   "cell_type": "code",
   "execution_count": 9,
   "metadata": {},
   "outputs": [],
   "source": [
    "# Reshape image in 3 dimensions (height = 28px, width = 28px , channel = 1)\n",
    "# channel = 1 => For gray scale\n",
    "X = X.reshape(-1,28,28,1)\n",
    "test_x = test_x.reshape(-1,28,28,1)"
   ]
  },
  {
   "cell_type": "markdown",
   "metadata": {},
   "source": [
    "Encoding labels for training"
   ]
  },
  {
   "cell_type": "code",
   "execution_count": 10,
   "metadata": {},
   "outputs": [
    {
     "name": "stdout",
     "output_type": "stream",
     "text": [
      "Label size (60000, 10)\n"
     ]
    }
   ],
   "source": [
    "# Encode labels to one hot vectors (ex : 2 -> [0,0,1,0,0,0,0,0,0,0])\n",
    "y = to_categorical(y)\n",
    "\n",
    "print(f\"Label size {y.shape}\")"
   ]
  },
  {
   "cell_type": "markdown",
   "metadata": {},
   "source": [
    "Splitting the data"
   ]
  },
  {
   "cell_type": "code",
   "execution_count": 11,
   "metadata": {},
   "outputs": [],
   "source": [
    "# Split the train and the validation set for the fitting\n",
    "X_train, X_test, y_train, y_test = train_test_split(X, y, test_size=0.1, random_state=0)"
   ]
  },
  {
   "cell_type": "code",
   "execution_count": 12,
   "metadata": {},
   "outputs": [
    {
     "data": {
      "text/plain": [
       "((54000, 28, 28, 1), (6000, 28, 28, 1), (54000, 10), (6000, 10))"
      ]
     },
     "execution_count": 12,
     "metadata": {},
     "output_type": "execute_result"
    }
   ],
   "source": [
    "X_train.shape, X_test.shape, y_train.shape, y_test.shape"
   ]
  },
  {
   "cell_type": "code",
   "execution_count": 13,
   "metadata": {
    "_uuid": "d00d9b96668d11a33c272b2b64cbb4397dcbba89",
    "scrolled": true
   },
   "outputs": [
    {
     "data": {
      "image/png": "[encoded data removed]",
      "text/plain": [
       "<Figure size 1440x720 with 4 Axes>"
      ]
     },
     "metadata": {
      "needs_background": "light"
     },
     "output_type": "display_data"
    }
   ],
   "source": [
    "X_train__ = X_train.reshape(X_train.shape[0], 28, 28)\n",
    "\n",
    "fig, axis = plt.subplots(1, 4, figsize=(20, 10))\n",
    "for i, ax in enumerate(axis.flat):\n",
    "    ax.imshow(X_train__[i], cmap='binary')\n",
    "    digit = y_train[i].argmax()\n",
    "    ax.set(title = f\"Real Number is {digit}\");"
   ]
  },
  {
   "cell_type": "code",
   "execution_count": 14,
   "metadata": {
    "_uuid": "82bddf135bfad1d3f91b52cd0cadb62e55db964b"
   },
   "outputs": [],
   "source": [
    "mean = np.mean(X_train)\n",
    "std = np.std(X_train)\n",
    "\n",
    "def standardize(x):\n",
    "    return (x-mean)/std"
   ]
  },
  {
   "cell_type": "code",
   "execution_count": 15,
   "metadata": {},
   "outputs": [],
   "source": [
    "epochs = 1000\n",
    "batch_size = 64"
   ]
  },
  {
   "cell_type": "code",
   "execution_count": 16,
   "metadata": {},
   "outputs": [],
   "source": [
    "from keras import optimizers\n",
    "from keras import callbacks"
   ]
  },
  {
   "cell_type": "markdown",
   "metadata": {},
   "source": [
    "Creating model"
   ]
  },
  {
   "cell_type": "code",
   "execution_count": 17,
   "metadata": {},
   "outputs": [],
   "source": [
    "model=Sequential()\n",
    "\n",
    "model.add(Conv2D(4,(3,3),activation='relu',padding='valid',input_shape=(28,28,1)))\n",
    "model.add(Conv2D(4,kernel_size=(3,3),activation='relu',padding='valid'))\n",
    "model.add(Conv2D(5,kernel_size=(3,3),activation='relu',padding='valid'))\n",
    "#model.add(MaxPooling2D((3,3),padding='same'))\n",
    "model.add(layers.AveragePooling2D((3,3),strides=(2,2),padding='valid'))\n",
    "\n",
    "model.add(Flatten())\n",
    "model.add(Dense(15,activation='relu'))\n",
    "model.add(Dropout(0.1))\n",
    "model.add(Dense(10,activation='softmax'))\n",
    "\n",
    "model.compile(optimizer='nadam',loss='categorical_crossentropy',metrics=['accuracy'])"
   ]
  },
  {
   "cell_type": "code",
   "execution_count": 18,
   "metadata": {},
   "outputs": [
    {
     "name": "stdout",
     "output_type": "stream",
     "text": [
      "_________________________________________________________________\n",
      "Layer (type)                 Output Shape              Param #   \n",
      "=================================================================\n",
      "conv2d_1 (Conv2D)            (None, 26, 26, 4)         40        \n",
      "_________________________________________________________________\n",
      "conv2d_2 (Conv2D)            (None, 24, 24, 4)         148       \n",
      "_________________________________________________________________\n",
      "conv2d_3 (Conv2D)            (None, 22, 22, 5)         185       \n",
      "_________________________________________________________________\n",
      "average_pooling2d_1 (Average (None, 10, 10, 5)         0         \n",
      "_________________________________________________________________\n",
      "flatten_1 (Flatten)          (None, 500)               0         \n",
      "_________________________________________________________________\n",
      "dense_1 (Dense)              (None, 15)                7515      \n",
      "_________________________________________________________________\n",
      "dropout_1 (Dropout)          (None, 15)                0         \n",
      "_________________________________________________________________\n",
      "dense_2 (Dense)              (None, 10)                160       \n",
      "=================================================================\n",
      "Total params: 8,048\n",
      "Trainable params: 8,048\n",
      "Non-trainable params: 0\n",
      "_________________________________________________________________\n"
     ]
    }
   ],
   "source": [
    "model.summary()"
   ]
  },
  {
   "cell_type": "markdown",
   "metadata": {},
   "source": [
    "Declaring callbacks"
   ]
  },
  {
   "cell_type": "code",
   "execution_count": 19,
   "metadata": {},
   "outputs": [],
   "source": [
    "reduce_lr = callbacks.ReduceLROnPlateau(monitor='loss', \n",
    "                                        factor=0.1,\n",
    "                                        patience=5, \n",
    "                                        min_lr=0.0000000002,\n",
    "                                        verbose=1)"
   ]
  },
  {
   "cell_type": "code",
   "execution_count": 20,
   "metadata": {},
   "outputs": [],
   "source": [
    "early= callbacks.EarlyStopping(monitor='val_acc',\n",
    "                               min_delta=0.00001,\n",
    "                               patience=50,\n",
    "                               verbose=1,\n",
    "                               mode='max',\n",
    "                               baseline=0.99,\n",
    "                               restore_best_weights=True)"
   ]
  },
  {
   "cell_type": "markdown",
   "metadata": {},
   "source": [
    "Training"
   ]
  },
  {
   "cell_type": "code",
   "execution_count": 21,
   "metadata": {},
   "outputs": [
    {
     "name": "stdout",
     "output_type": "stream",
     "text": [
      "Train on 57000 samples, validate on 3000 samples\n",
      "Epoch 1/1000\n",
      "57000/57000 [==============================] - 8s 134us/step - loss: 0.4470 - acc: 0.8560 - val_loss: 0.1146 - val_acc: 0.9683\n",
      "Epoch 2/1000\n",
      "57000/57000 [==============================] - 5s 93us/step - loss: 0.1977 - acc: 0.9389 - val_loss: 0.0890 - val_acc: 0.9750\n",
      "Epoch 3/1000\n",
      "57000/57000 [==============================] - 5s 93us/step - loss: 0.1619 - acc: 0.9494 - val_loss: 0.0857 - val_acc: 0.9757\n",
      "Epoch 4/1000\n",
      "57000/57000 [==============================] - 5s 92us/step - loss: 0.1404 - acc: 0.9568 - val_loss: 0.0674 - val_acc: 0.9810\n",
      "Epoch 5/1000\n",
      "57000/57000 [==============================] - 5s 92us/step - loss: 0.1220 - acc: 0.9623 - val_loss: 0.0603 - val_acc: 0.9843\n",
      "Epoch 6/1000\n",
      "57000/57000 [==============================] - 5s 93us/step - loss: 0.1095 - acc: 0.9656 - val_loss: 0.0523 - val_acc: 0.9860\n",
      "Epoch 7/1000\n",
      "57000/57000 [==============================] - 5s 93us/step - loss: 0.1041 - acc: 0.9676 - val_loss: 0.0597 - val_acc: 0.9847\n",
      "Epoch 8/1000\n",
      "57000/57000 [==============================] - 5s 93us/step - loss: 0.0989 - acc: 0.9691 - val_loss: 0.0504 - val_acc: 0.9877\n",
      "Epoch 9/1000\n",
      "57000/57000 [==============================] - 5s 93us/step - loss: 0.0904 - acc: 0.9721 - val_loss: 0.0536 - val_acc: 0.9847\n",
      "Epoch 10/1000\n",
      "57000/57000 [==============================] - 5s 94us/step - loss: 0.0873 - acc: 0.9731 - val_loss: 0.0515 - val_acc: 0.9867\n",
      "Epoch 11/1000\n",
      "57000/57000 [==============================] - 5s 93us/step - loss: 0.0864 - acc: 0.9734 - val_loss: 0.0518 - val_acc: 0.9870\n",
      "Epoch 12/1000\n",
      "57000/57000 [==============================] - 5s 93us/step - loss: 0.0811 - acc: 0.9749 - val_loss: 0.0577 - val_acc: 0.9843\n",
      "Epoch 13/1000\n",
      "57000/57000 [==============================] - 5s 93us/step - loss: 0.0803 - acc: 0.9750 - val_loss: 0.0469 - val_acc: 0.9873\n",
      "Epoch 14/1000\n",
      "57000/57000 [==============================] - 5s 94us/step - loss: 0.0786 - acc: 0.9746 - val_loss: 0.0509 - val_acc: 0.9873\n",
      "Epoch 15/1000\n",
      "57000/57000 [==============================] - 5s 94us/step - loss: 0.0754 - acc: 0.9759 - val_loss: 0.0550 - val_acc: 0.9850\n",
      "Epoch 16/1000\n",
      "57000/57000 [==============================] - 5s 94us/step - loss: 0.0746 - acc: 0.9765 - val_loss: 0.0549 - val_acc: 0.9850\n",
      "Epoch 17/1000\n",
      "57000/57000 [==============================] - 5s 94us/step - loss: 0.0716 - acc: 0.9778 - val_loss: 0.0606 - val_acc: 0.9857\n",
      "Epoch 18/1000\n",
      "57000/57000 [==============================] - 5s 94us/step - loss: 0.0699 - acc: 0.9783 - val_loss: 0.0471 - val_acc: 0.9890\n",
      "Epoch 19/1000\n",
      "57000/57000 [==============================] - 5s 94us/step - loss: 0.0695 - acc: 0.9781 - val_loss: 0.0444 - val_acc: 0.9873\n",
      "Epoch 20/1000\n",
      "57000/57000 [==============================] - 5s 95us/step - loss: 0.0692 - acc: 0.9781 - val_loss: 0.0460 - val_acc: 0.9890\n",
      "Epoch 21/1000\n",
      "57000/57000 [==============================] - 5s 94us/step - loss: 0.0667 - acc: 0.9790 - val_loss: 0.0510 - val_acc: 0.9887\n",
      "Epoch 22/1000\n",
      "57000/57000 [==============================] - 5s 94us/step - loss: 0.0660 - acc: 0.9792 - val_loss: 0.0425 - val_acc: 0.9897\n",
      "Epoch 23/1000\n",
      "57000/57000 [==============================] - 5s 95us/step - loss: 0.0654 - acc: 0.9794 - val_loss: 0.0568 - val_acc: 0.9847\n",
      "Epoch 24/1000\n",
      "57000/57000 [==============================] - 5s 94us/step - loss: 0.0629 - acc: 0.9797 - val_loss: 0.0566 - val_acc: 0.9867\n",
      "Epoch 25/1000\n",
      "57000/57000 [==============================] - 5s 95us/step - loss: 0.0612 - acc: 0.9801 - val_loss: 0.0535 - val_acc: 0.9863\n",
      "Epoch 26/1000\n",
      "57000/57000 [==============================] - 5s 94us/step - loss: 0.0613 - acc: 0.9802 - val_loss: 0.0612 - val_acc: 0.9843\n",
      "Epoch 27/1000\n",
      "57000/57000 [==============================] - 5s 94us/step - loss: 0.0624 - acc: 0.9801 - val_loss: 0.0469 - val_acc: 0.9897\n",
      "Epoch 28/1000\n",
      "57000/57000 [==============================] - 5s 94us/step - loss: 0.0595 - acc: 0.9808 - val_loss: 0.0461 - val_acc: 0.9870\n",
      "Epoch 29/1000\n",
      "57000/57000 [==============================] - 5s 94us/step - loss: 0.0598 - acc: 0.9810 - val_loss: 0.0487 - val_acc: 0.9870\n",
      "Epoch 30/1000\n",
      "57000/57000 [==============================] - 5s 95us/step - loss: 0.0588 - acc: 0.9814 - val_loss: 0.0478 - val_acc: 0.9863\n",
      "Epoch 31/1000\n",
      "57000/57000 [==============================] - 5s 96us/step - loss: 0.0599 - acc: 0.9809 - val_loss: 0.0438 - val_acc: 0.9873\n",
      "Epoch 32/1000\n",
      "57000/57000 [==============================] - 5s 94us/step - loss: 0.0583 - acc: 0.9817 - val_loss: 0.0548 - val_acc: 0.9877\n",
      "Epoch 33/1000\n",
      "57000/57000 [==============================] - 5s 94us/step - loss: 0.0561 - acc: 0.9827 - val_loss: 0.0384 - val_acc: 0.9900\n",
      "Epoch 34/1000\n",
      "57000/57000 [==============================] - 5s 94us/step - loss: 0.0576 - acc: 0.9816 - val_loss: 0.0446 - val_acc: 0.9897\n",
      "Epoch 35/1000\n",
      "57000/57000 [==============================] - 5s 94us/step - loss: 0.0580 - acc: 0.9813 - val_loss: 0.0474 - val_acc: 0.9880\n",
      "Epoch 36/1000\n",
      "57000/57000 [==============================] - 5s 94us/step - loss: 0.0561 - acc: 0.9816 - val_loss: 0.0443 - val_acc: 0.9887\n",
      "Epoch 37/1000\n",
      "57000/57000 [==============================] - 5s 94us/step - loss: 0.0556 - acc: 0.9828 - val_loss: 0.0465 - val_acc: 0.9867\n",
      "Epoch 38/1000\n",
      "57000/57000 [==============================] - 5s 94us/step - loss: 0.0549 - acc: 0.9823 - val_loss: 0.0482 - val_acc: 0.9897\n",
      "Epoch 39/1000\n",
      "57000/57000 [==============================] - 5s 94us/step - loss: 0.0548 - acc: 0.9826 - val_loss: 0.0513 - val_acc: 0.9880\n",
      "Epoch 40/1000\n",
      "57000/57000 [==============================] - 5s 94us/step - loss: 0.0535 - acc: 0.9826 - val_loss: 0.0412 - val_acc: 0.9907\n",
      "Epoch 41/1000\n",
      "57000/57000 [==============================] - 5s 94us/step - loss: 0.0566 - acc: 0.9818 - val_loss: 0.0456 - val_acc: 0.9897\n",
      "Epoch 42/1000\n",
      "57000/57000 [==============================] - 5s 95us/step - loss: 0.0547 - acc: 0.9822 - val_loss: 0.0506 - val_acc: 0.9883\n",
      "Epoch 43/1000\n",
      "57000/57000 [==============================] - 5s 94us/step - loss: 0.0507 - acc: 0.9836 - val_loss: 0.0496 - val_acc: 0.9887\n",
      "Epoch 44/1000\n",
      "57000/57000 [==============================] - 5s 94us/step - loss: 0.0510 - acc: 0.9836 - val_loss: 0.0492 - val_acc: 0.9863\n",
      "Epoch 45/1000\n",
      "57000/57000 [==============================] - 5s 96us/step - loss: 0.0519 - acc: 0.9833 - val_loss: 0.0413 - val_acc: 0.9913\n",
      "Epoch 46/1000\n",
      "57000/57000 [==============================] - 5s 95us/step - loss: 0.0517 - acc: 0.9838 - val_loss: 0.0542 - val_acc: 0.9873\n",
      "Epoch 47/1000\n",
      "57000/57000 [==============================] - 5s 94us/step - loss: 0.0533 - acc: 0.9836 - val_loss: 0.0456 - val_acc: 0.9910\n",
      "Epoch 48/1000\n",
      "57000/57000 [==============================] - 5s 94us/step - loss: 0.0496 - acc: 0.9839 - val_loss: 0.0539 - val_acc: 0.9883\n",
      "Epoch 49/1000\n",
      "57000/57000 [==============================] - 5s 93us/step - loss: 0.0494 - acc: 0.9843 - val_loss: 0.0467 - val_acc: 0.9900\n",
      "Epoch 50/1000\n",
      "57000/57000 [==============================] - 5s 94us/step - loss: 0.0496 - acc: 0.9838 - val_loss: 0.0493 - val_acc: 0.9903\n",
      "Epoch 51/1000\n",
      "57000/57000 [==============================] - 5s 94us/step - loss: 0.0498 - acc: 0.9840 - val_loss: 0.0413 - val_acc: 0.9920\n",
      "Epoch 52/1000\n",
      "57000/57000 [==============================] - 5s 94us/step - loss: 0.0481 - acc: 0.9848 - val_loss: 0.0425 - val_acc: 0.9930\n",
      "Epoch 53/1000\n",
      "57000/57000 [==============================] - 5s 95us/step - loss: 0.0506 - acc: 0.9835 - val_loss: 0.0515 - val_acc: 0.9893\n",
      "Epoch 54/1000\n",
      "57000/57000 [==============================] - 5s 94us/step - loss: 0.0477 - acc: 0.9841 - val_loss: 0.0573 - val_acc: 0.9873\n",
      "Epoch 55/1000\n",
      "57000/57000 [==============================] - 5s 95us/step - loss: 0.0491 - acc: 0.9847 - val_loss: 0.0470 - val_acc: 0.9887\n",
      "Epoch 56/1000\n",
      "57000/57000 [==============================] - 5s 95us/step - loss: 0.0486 - acc: 0.9841 - val_loss: 0.0582 - val_acc: 0.9863\n",
      "Epoch 57/1000\n",
      "57000/57000 [==============================] - 5s 94us/step - loss: 0.0485 - acc: 0.9841 - val_loss: 0.0460 - val_acc: 0.9910\n",
      "Epoch 58/1000\n",
      "57000/57000 [==============================] - 5s 95us/step - loss: 0.0484 - acc: 0.9842 - val_loss: 0.0453 - val_acc: 0.9910\n",
      "Epoch 59/1000\n",
      "57000/57000 [==============================] - 5s 94us/step - loss: 0.0470 - acc: 0.9844 - val_loss: 0.0475 - val_acc: 0.9910\n",
      "Epoch 60/1000\n",
      "57000/57000 [==============================] - 5s 93us/step - loss: 0.0497 - acc: 0.9838 - val_loss: 0.0496 - val_acc: 0.9890\n",
      "Epoch 61/1000\n",
      "57000/57000 [==============================] - 5s 93us/step - loss: 0.0470 - acc: 0.9848 - val_loss: 0.0405 - val_acc: 0.9920\n",
      "Epoch 62/1000\n",
      "57000/57000 [==============================] - 5s 93us/step - loss: 0.0479 - acc: 0.9846 - val_loss: 0.0466 - val_acc: 0.9920\n",
      "Epoch 63/1000\n",
      "57000/57000 [==============================] - 5s 94us/step - loss: 0.0463 - acc: 0.9852 - val_loss: 0.0596 - val_acc: 0.9873\n",
      "Epoch 64/1000\n",
      "57000/57000 [==============================] - 5s 93us/step - loss: 0.0477 - acc: 0.9845 - val_loss: 0.0491 - val_acc: 0.9910\n",
      "Epoch 65/1000\n",
      "57000/57000 [==============================] - 5s 93us/step - loss: 0.0467 - acc: 0.9845 - val_loss: 0.0521 - val_acc: 0.9910\n",
      "Epoch 66/1000\n",
      "57000/57000 [==============================] - 5s 93us/step - loss: 0.0463 - acc: 0.9852 - val_loss: 0.0465 - val_acc: 0.9913\n",
      "Epoch 67/1000\n",
      "57000/57000 [==============================] - 5s 93us/step - loss: 0.0445 - acc: 0.9857 - val_loss: 0.0527 - val_acc: 0.9890\n",
      "Epoch 68/1000\n",
      "57000/57000 [==============================] - 5s 94us/step - loss: 0.0460 - acc: 0.9859 - val_loss: 0.0458 - val_acc: 0.9903\n",
      "Epoch 69/1000\n",
      "57000/57000 [==============================] - 5s 94us/step - loss: 0.0449 - acc: 0.9853 - val_loss: 0.0482 - val_acc: 0.9883\n",
      "Epoch 70/1000\n",
      "57000/57000 [==============================] - 5s 95us/step - loss: 0.0454 - acc: 0.9855 - val_loss: 0.0481 - val_acc: 0.9900\n",
      "Epoch 71/1000\n",
      "57000/57000 [==============================] - 5s 94us/step - loss: 0.0462 - acc: 0.9851 - val_loss: 0.0542 - val_acc: 0.9877\n",
      "Epoch 72/1000\n",
      "57000/57000 [==============================] - 5s 94us/step - loss: 0.0457 - acc: 0.9849 - val_loss: 0.0517 - val_acc: 0.9883\n",
      "\n",
      "Epoch 00072: ReduceLROnPlateau reducing learning rate to 0.00020000000949949026.\n",
      "Epoch 73/1000\n",
      "57000/57000 [==============================] - 5s 94us/step - loss: 0.0354 - acc: 0.9885 - val_loss: 0.0500 - val_acc: 0.9910\n",
      "Epoch 74/1000\n",
      "57000/57000 [==============================] - 5s 94us/step - loss: 0.0337 - acc: 0.9894 - val_loss: 0.0492 - val_acc: 0.9910\n",
      "Epoch 75/1000\n",
      "57000/57000 [==============================] - 5s 94us/step - loss: 0.0322 - acc: 0.9891 - val_loss: 0.0496 - val_acc: 0.9907\n",
      "Epoch 76/1000\n",
      "57000/57000 [==============================] - 5s 95us/step - loss: 0.0334 - acc: 0.9890 - val_loss: 0.0504 - val_acc: 0.9907\n",
      "Epoch 77/1000\n",
      "57000/57000 [==============================] - 5s 94us/step - loss: 0.0311 - acc: 0.9899 - val_loss: 0.0542 - val_acc: 0.9907\n",
      "Epoch 78/1000\n",
      "57000/57000 [==============================] - 5s 94us/step - loss: 0.0320 - acc: 0.9898 - val_loss: 0.0501 - val_acc: 0.9913\n",
      "Epoch 79/1000\n",
      "57000/57000 [==============================] - 5s 94us/step - loss: 0.0293 - acc: 0.9906 - val_loss: 0.0528 - val_acc: 0.9910\n",
      "Epoch 80/1000\n",
      "57000/57000 [==============================] - 5s 94us/step - loss: 0.0320 - acc: 0.9895 - val_loss: 0.0518 - val_acc: 0.9913\n",
      "Epoch 81/1000\n",
      "57000/57000 [==============================] - 5s 95us/step - loss: 0.0314 - acc: 0.9900 - val_loss: 0.0512 - val_acc: 0.9910\n",
      "Epoch 82/1000\n",
      "57000/57000 [==============================] - 5s 94us/step - loss: 0.0308 - acc: 0.9900 - val_loss: 0.0502 - val_acc: 0.9910\n",
      "Epoch 83/1000\n",
      "57000/57000 [==============================] - 5s 93us/step - loss: 0.0307 - acc: 0.9904 - val_loss: 0.0516 - val_acc: 0.9913\n",
      "Epoch 84/1000\n",
      "57000/57000 [==============================] - 5s 94us/step - loss: 0.0289 - acc: 0.9910 - val_loss: 0.0513 - val_acc: 0.9917\n",
      "Epoch 85/1000\n",
      "57000/57000 [==============================] - 5s 95us/step - loss: 0.0302 - acc: 0.9904 - val_loss: 0.0533 - val_acc: 0.9913\n",
      "Epoch 86/1000\n",
      "57000/57000 [==============================] - 5s 95us/step - loss: 0.0310 - acc: 0.9903 - val_loss: 0.0538 - val_acc: 0.9903\n",
      "Epoch 87/1000\n",
      "57000/57000 [==============================] - 5s 96us/step - loss: 0.0304 - acc: 0.9904 - val_loss: 0.0518 - val_acc: 0.9907\n",
      "Epoch 88/1000\n",
      "57000/57000 [==============================] - 5s 95us/step - loss: 0.0312 - acc: 0.9903 - val_loss: 0.0519 - val_acc: 0.9913\n",
      "Epoch 89/1000\n",
      "57000/57000 [==============================] - 5s 95us/step - loss: 0.0314 - acc: 0.9901 - val_loss: 0.0517 - val_acc: 0.9910\n",
      "\n",
      "Epoch 00089: ReduceLROnPlateau reducing learning rate to 2.0000000949949027e-05.\n",
      "Epoch 90/1000\n",
      "57000/57000 [==============================] - 5s 96us/step - loss: 0.0295 - acc: 0.9907 - val_loss: 0.0512 - val_acc: 0.9910\n",
      "Epoch 91/1000\n",
      "57000/57000 [==============================] - 5s 95us/step - loss: 0.0287 - acc: 0.9910 - val_loss: 0.0511 - val_acc: 0.9917\n",
      "Epoch 92/1000\n",
      "57000/57000 [==============================] - 5s 96us/step - loss: 0.0277 - acc: 0.9909 - val_loss: 0.0510 - val_acc: 0.9917\n",
      "Epoch 93/1000\n",
      "57000/57000 [==============================] - 5s 94us/step - loss: 0.0286 - acc: 0.9909 - val_loss: 0.0509 - val_acc: 0.9917\n",
      "Epoch 94/1000\n",
      "57000/57000 [==============================] - 5s 95us/step - loss: 0.0288 - acc: 0.9908 - val_loss: 0.0511 - val_acc: 0.9917\n",
      "Epoch 95/1000\n",
      "57000/57000 [==============================] - 5s 94us/step - loss: 0.0290 - acc: 0.9906 - val_loss: 0.0510 - val_acc: 0.9913\n",
      "Epoch 96/1000\n",
      "57000/57000 [==============================] - 5s 94us/step - loss: 0.0287 - acc: 0.9907 - val_loss: 0.0510 - val_acc: 0.9913\n",
      "Epoch 97/1000\n",
      "57000/57000 [==============================] - 5s 94us/step - loss: 0.0284 - acc: 0.9912 - val_loss: 0.0506 - val_acc: 0.9920\n",
      "\n",
      "Epoch 00097: ReduceLROnPlateau reducing learning rate to 2.0000001313746906e-06.\n",
      "Epoch 98/1000\n",
      "57000/57000 [==============================] - 5s 95us/step - loss: 0.0290 - acc: 0.9910 - val_loss: 0.0506 - val_acc: 0.9920\n",
      "Epoch 99/1000\n",
      "57000/57000 [==============================] - 5s 94us/step - loss: 0.0287 - acc: 0.9909 - val_loss: 0.0506 - val_acc: 0.9920\n",
      "Epoch 100/1000\n",
      "57000/57000 [==============================] - 5s 94us/step - loss: 0.0288 - acc: 0.9908 - val_loss: 0.0505 - val_acc: 0.9920\n",
      "Epoch 101/1000\n",
      "57000/57000 [==============================] - 5s 94us/step - loss: 0.0278 - acc: 0.9912 - val_loss: 0.0505 - val_acc: 0.9920\n",
      "Epoch 102/1000\n",
      "57000/57000 [==============================] - 5s 94us/step - loss: 0.0290 - acc: 0.9909 - val_loss: 0.0504 - val_acc: 0.9920\n",
      "\n",
      "Epoch 00102: ReduceLROnPlateau reducing learning rate to 2.000000222324161e-07.\n",
      "Restoring model weights from the end of the best epoch\n",
      "Epoch 00102: early stopping\n"
     ]
    }
   ],
   "source": [
    "history=model.fit(X, y, batch_size=batch_size, validation_split=0.05, epochs=epochs,callbacks=[reduce_lr,early], shuffle=True)"
   ]
  },
  {
   "cell_type": "markdown",
   "metadata": {},
   "source": [
    "Saving model architecture as image"
   ]
  },
  {
   "cell_type": "code",
   "execution_count": 22,
   "metadata": {},
   "outputs": [],
   "source": [
    "from keras.utils.vis_utils import plot_model\n",
    "plot_model(model, to_file='model_plot.png', show_shapes=True, show_layer_names=True)"
   ]
  },
  {
   "cell_type": "markdown",
   "metadata": {},
   "source": [
    "Plotting learning curve"
   ]
  },
  {
   "cell_type": "code",
   "execution_count": 23,
   "metadata": {},
   "outputs": [
    {
     "data": {
      "image/png": "[encoded data removed]",
      "text/plain": [
       "<Figure size 1296x720 with 2 Axes>"
      ]
     },
     "metadata": {
      "needs_background": "light"
     },
     "output_type": "display_data"
    }
   ],
   "source": [
    "# Plot the loss and accuracy curves for training and validation \n",
    "fig, ax = plt.subplots(2,1, figsize=(18, 10))\n",
    "ax[0].plot(history.history['loss'], color='b', label=\"Training loss\")\n",
    "ax[0].plot(history.history['val_loss'], color='r', label=\"validation loss\",axes =ax[0])\n",
    "legend = ax[0].legend(loc='best', shadow=True)\n",
    "\n",
    "ax[1].plot(history.history['acc'], color='b', label=\"Training accuracy\")\n",
    "ax[1].plot(history.history['val_acc'], color='r',label=\"Validation accuracy\")\n",
    "legend = ax[1].legend(loc='best', shadow=True)"
   ]
  },
  {
   "cell_type": "markdown",
   "metadata": {},
   "source": [
    "Plotting confusion matrix"
   ]
  },
  {
   "cell_type": "code",
   "execution_count": 24,
   "metadata": {},
   "outputs": [
    {
     "data": {
      "image/png": "[encoded data removed]",
      "text/plain": [
       "<Figure size 720x720 with 1 Axes>"
      ]
     },
     "metadata": {
      "needs_background": "light"
     },
     "output_type": "display_data"
    }
   ],
   "source": [
    "fig = plt.figure(figsize=(11,11)) # Set Figure\n",
    "\n",
    "y_pred = model.predict(X_test) # Predict encoded label as 2 => [0, 0, 1, 0, 0, 0, 0, 0, 0, 0]\n",
    "\n",
    "Y_pred = np.argmax(y_pred, 1) # Decode Predicted labels\n",
    "Y_test = np.argmax(y_test, 1) # Decode labels\n",
    "\n",
    "mat = confusion_matrix(Y_test, Y_pred) # Confusion matrix\n",
    "\n",
    "# Plot Confusion matrix\n",
    "sns.heatmap(mat.T, square=True, annot=True, cbar=False, cmap=plt.cm.Blues)\n",
    "plt.xlabel('Predicted Values')\n",
    "plt.ylabel('True Values');\n",
    "plt.show();"
   ]
  },
  {
   "cell_type": "markdown",
   "metadata": {},
   "source": [
    "Visualising the prediction with real labels"
   ]
  },
  {
   "cell_type": "code",
   "execution_count": 25,
   "metadata": {},
   "outputs": [
    {
     "data": {
      "image/png": "[encoded data removed]",
      "text/plain": [
       "<Figure size 864x1008 with 16 Axes>"
      ]
     },
     "metadata": {
      "needs_background": "light"
     },
     "output_type": "display_data"
    }
   ],
   "source": [
    "y_pred = model.predict(X_test)\n",
    "X_test__ = X_test.reshape(X_test.shape[0], 28, 28)\n",
    "\n",
    "fig, axis = plt.subplots(4, 4, figsize=(12, 14))\n",
    "for i, ax in enumerate(axis.flat):\n",
    "    ax.imshow(X_test__[i], cmap='binary')\n",
    "    ax.set(title = f\"Real Number is {y_test[i].argmax()}\\nPredict Number is {y_pred[i].argmax()}\");"
   ]
  },
  {
   "cell_type": "markdown",
   "metadata": {},
   "source": [
    "Saving the model"
   ]
  },
  {
   "cell_type": "code",
   "execution_count": 27,
   "metadata": {},
   "outputs": [],
   "source": [
    "model.save('./mnist.h5')"
   ]
  },
  {
   "cell_type": "code",
   "execution_count": 28,
   "metadata": {},
   "outputs": [
    {
     "name": "stdout",
     "output_type": "stream",
     "text": [
      "Max Validation Accuracy = 99.3 %\n"
     ]
    }
   ],
   "source": [
    "print('Max Validation Accuracy =',max(history.history['val_acc'])*100,'%')"
   ]
  }
 ],
 "metadata": {
  "kernelspec": {
   "display_name": "Python 3",
   "language": "python",
   "name": "python3"
  },
  "language_info": {
   "codemirror_mode": {
    "name": "ipython",
    "version": 3
   },
   "file_extension": ".py",
   "mimetype": "text/x-python",
   "name": "python",
   "nbconvert_exporter": "python",
   "pygments_lexer": "ipython3",
   "version": "3.6.9"
  }
 },
 "nbformat": 4,
 "nbformat_minor": 1
}
