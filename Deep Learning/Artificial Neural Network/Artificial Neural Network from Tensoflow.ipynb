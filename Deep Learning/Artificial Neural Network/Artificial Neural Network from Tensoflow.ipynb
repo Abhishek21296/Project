{
 "cells": [
  {
   "cell_type": "code",
   "execution_count": 1,
   "metadata": {
    "colab": {},
    "colab_type": "code",
    "id": "IY5Jrk31dAZq",
    "scrolled": true
   },
   "outputs": [],
   "source": [
    "import pandas as pd\n",
    "import numpy as np"
   ]
  },
  {
   "cell_type": "code",
   "execution_count": 36,
   "metadata": {
    "colab": {},
    "colab_type": "code",
    "id": "p-6Ivl59hwva"
   },
   "outputs": [],
   "source": [
    "raw_data = pd.read_csv(\"C:/Users/Abhishek/Documents/Jupiter_Notebook/Datasets/mnist_train.csv\")"
   ]
  },
  {
   "cell_type": "code",
   "execution_count": 37,
   "metadata": {
    "colab": {
     "base_uri": "https://localhost:8080/",
     "height": 251
    },
    "colab_type": "code",
    "id": "FzhX78omiUEk",
    "outputId": "2db5d883-2731-4557-b9fb-40267e6e4d9b"
   },
   "outputs": [
    {
     "data": {
      "text/html": [
       "<div>\n",
       "<style scoped>\n",
       "    .dataframe tbody tr th:only-of-type {\n",
       "        vertical-align: middle;\n",
       "    }\n",
       "\n",
       "    .dataframe tbody tr th {\n",
       "        vertical-align: top;\n",
       "    }\n",
       "\n",
       "    .dataframe thead th {\n",
       "        text-align: right;\n",
       "    }\n",
       "</style>\n",
       "<table border=\"1\" class=\"dataframe\">\n",
       "  <thead>\n",
       "    <tr style=\"text-align: right;\">\n",
       "      <th></th>\n",
       "      <th>label</th>\n",
       "      <th>1x1</th>\n",
       "      <th>1x2</th>\n",
       "      <th>1x3</th>\n",
       "      <th>1x4</th>\n",
       "      <th>1x5</th>\n",
       "      <th>1x6</th>\n",
       "      <th>1x7</th>\n",
       "      <th>1x8</th>\n",
       "      <th>1x9</th>\n",
       "      <th>...</th>\n",
       "      <th>28x19</th>\n",
       "      <th>28x20</th>\n",
       "      <th>28x21</th>\n",
       "      <th>28x22</th>\n",
       "      <th>28x23</th>\n",
       "      <th>28x24</th>\n",
       "      <th>28x25</th>\n",
       "      <th>28x26</th>\n",
       "      <th>28x27</th>\n",
       "      <th>28x28</th>\n",
       "    </tr>\n",
       "  </thead>\n",
       "  <tbody>\n",
       "    <tr>\n",
       "      <th>0</th>\n",
       "      <td>5</td>\n",
       "      <td>0</td>\n",
       "      <td>0</td>\n",
       "      <td>0</td>\n",
       "      <td>0</td>\n",
       "      <td>0</td>\n",
       "      <td>0</td>\n",
       "      <td>0</td>\n",
       "      <td>0</td>\n",
       "      <td>0</td>\n",
       "      <td>...</td>\n",
       "      <td>0</td>\n",
       "      <td>0</td>\n",
       "      <td>0</td>\n",
       "      <td>0</td>\n",
       "      <td>0</td>\n",
       "      <td>0</td>\n",
       "      <td>0</td>\n",
       "      <td>0</td>\n",
       "      <td>0</td>\n",
       "      <td>0</td>\n",
       "    </tr>\n",
       "    <tr>\n",
       "      <th>1</th>\n",
       "      <td>0</td>\n",
       "      <td>0</td>\n",
       "      <td>0</td>\n",
       "      <td>0</td>\n",
       "      <td>0</td>\n",
       "      <td>0</td>\n",
       "      <td>0</td>\n",
       "      <td>0</td>\n",
       "      <td>0</td>\n",
       "      <td>0</td>\n",
       "      <td>...</td>\n",
       "      <td>0</td>\n",
       "      <td>0</td>\n",
       "      <td>0</td>\n",
       "      <td>0</td>\n",
       "      <td>0</td>\n",
       "      <td>0</td>\n",
       "      <td>0</td>\n",
       "      <td>0</td>\n",
       "      <td>0</td>\n",
       "      <td>0</td>\n",
       "    </tr>\n",
       "    <tr>\n",
       "      <th>2</th>\n",
       "      <td>4</td>\n",
       "      <td>0</td>\n",
       "      <td>0</td>\n",
       "      <td>0</td>\n",
       "      <td>0</td>\n",
       "      <td>0</td>\n",
       "      <td>0</td>\n",
       "      <td>0</td>\n",
       "      <td>0</td>\n",
       "      <td>0</td>\n",
       "      <td>...</td>\n",
       "      <td>0</td>\n",
       "      <td>0</td>\n",
       "      <td>0</td>\n",
       "      <td>0</td>\n",
       "      <td>0</td>\n",
       "      <td>0</td>\n",
       "      <td>0</td>\n",
       "      <td>0</td>\n",
       "      <td>0</td>\n",
       "      <td>0</td>\n",
       "    </tr>\n",
       "    <tr>\n",
       "      <th>3</th>\n",
       "      <td>1</td>\n",
       "      <td>0</td>\n",
       "      <td>0</td>\n",
       "      <td>0</td>\n",
       "      <td>0</td>\n",
       "      <td>0</td>\n",
       "      <td>0</td>\n",
       "      <td>0</td>\n",
       "      <td>0</td>\n",
       "      <td>0</td>\n",
       "      <td>...</td>\n",
       "      <td>0</td>\n",
       "      <td>0</td>\n",
       "      <td>0</td>\n",
       "      <td>0</td>\n",
       "      <td>0</td>\n",
       "      <td>0</td>\n",
       "      <td>0</td>\n",
       "      <td>0</td>\n",
       "      <td>0</td>\n",
       "      <td>0</td>\n",
       "    </tr>\n",
       "    <tr>\n",
       "      <th>4</th>\n",
       "      <td>9</td>\n",
       "      <td>0</td>\n",
       "      <td>0</td>\n",
       "      <td>0</td>\n",
       "      <td>0</td>\n",
       "      <td>0</td>\n",
       "      <td>0</td>\n",
       "      <td>0</td>\n",
       "      <td>0</td>\n",
       "      <td>0</td>\n",
       "      <td>...</td>\n",
       "      <td>0</td>\n",
       "      <td>0</td>\n",
       "      <td>0</td>\n",
       "      <td>0</td>\n",
       "      <td>0</td>\n",
       "      <td>0</td>\n",
       "      <td>0</td>\n",
       "      <td>0</td>\n",
       "      <td>0</td>\n",
       "      <td>0</td>\n",
       "    </tr>\n",
       "  </tbody>\n",
       "</table>\n",
       "<p>5 rows × 785 columns</p>\n",
       "</div>"
      ],
      "text/plain": [
       "   label  1x1  1x2  1x3  1x4  1x5  1x6  1x7  1x8  1x9  ...  28x19  28x20  \\\n",
       "0      5    0    0    0    0    0    0    0    0    0  ...      0      0   \n",
       "1      0    0    0    0    0    0    0    0    0    0  ...      0      0   \n",
       "2      4    0    0    0    0    0    0    0    0    0  ...      0      0   \n",
       "3      1    0    0    0    0    0    0    0    0    0  ...      0      0   \n",
       "4      9    0    0    0    0    0    0    0    0    0  ...      0      0   \n",
       "\n",
       "   28x21  28x22  28x23  28x24  28x25  28x26  28x27  28x28  \n",
       "0      0      0      0      0      0      0      0      0  \n",
       "1      0      0      0      0      0      0      0      0  \n",
       "2      0      0      0      0      0      0      0      0  \n",
       "3      0      0      0      0      0      0      0      0  \n",
       "4      0      0      0      0      0      0      0      0  \n",
       "\n",
       "[5 rows x 785 columns]"
      ]
     },
     "execution_count": 37,
     "metadata": {},
     "output_type": "execute_result"
    }
   ],
   "source": [
    "raw_data.head()"
   ]
  },
  {
   "cell_type": "code",
   "execution_count": 38,
   "metadata": {
    "colab": {},
    "colab_type": "code",
    "id": "_dJ1eavCiXIL"
   },
   "outputs": [],
   "source": [
    "actual_labels = raw_data['label']"
   ]
  },
  {
   "cell_type": "code",
   "execution_count": 39,
   "metadata": {
    "colab": {},
    "colab_type": "code",
    "id": "gIbrJ411iiHQ"
   },
   "outputs": [],
   "source": [
    "C = np.eye(10,10)[actual_labels]"
   ]
  },
  {
   "cell_type": "code",
   "execution_count": 40,
   "metadata": {
    "colab": {
     "base_uri": "https://localhost:8080/",
     "height": 139
    },
    "colab_type": "code",
    "id": "hr37_72Niqus",
    "outputId": "87e1d54c-e8d5-41a3-8b4e-f84bba20705e"
   },
   "outputs": [
    {
     "data": {
      "text/plain": [
       "array([[0., 0., 0., ..., 0., 0., 0.],\n",
       "       [1., 0., 0., ..., 0., 0., 0.],\n",
       "       [0., 0., 0., ..., 0., 0., 0.],\n",
       "       ...,\n",
       "       [0., 0., 0., ..., 0., 0., 0.],\n",
       "       [0., 0., 0., ..., 0., 0., 0.],\n",
       "       [0., 0., 0., ..., 0., 1., 0.]])"
      ]
     },
     "execution_count": 40,
     "metadata": {},
     "output_type": "execute_result"
    }
   ],
   "source": [
    "C"
   ]
  },
  {
   "cell_type": "code",
   "execution_count": 41,
   "metadata": {
    "colab": {
     "base_uri": "https://localhost:8080/",
     "height": 35
    },
    "colab_type": "code",
    "id": "o5i6hEskirr8",
    "outputId": "64d33777-1363-4a55-a16d-78b00e1a85dc"
   },
   "outputs": [
    {
     "data": {
      "text/plain": [
       "(60000, 10)"
      ]
     },
     "execution_count": 41,
     "metadata": {},
     "output_type": "execute_result"
    }
   ],
   "source": [
    "C.shape"
   ]
  },
  {
   "cell_type": "code",
   "execution_count": 42,
   "metadata": {
    "colab": {},
    "colab_type": "code",
    "id": "3Jt5bfbhiua-"
   },
   "outputs": [],
   "source": [
    "raw_data.drop(['label'],axis=1,inplace=True)"
   ]
  },
  {
   "cell_type": "code",
   "execution_count": 43,
   "metadata": {
    "colab": {
     "base_uri": "https://localhost:8080/",
     "height": 251
    },
    "colab_type": "code",
    "id": "jCwMmSCei_KT",
    "outputId": "c696e203-dff5-46f3-ac66-676058c959c6"
   },
   "outputs": [
    {
     "data": {
      "text/html": [
       "<div>\n",
       "<style scoped>\n",
       "    .dataframe tbody tr th:only-of-type {\n",
       "        vertical-align: middle;\n",
       "    }\n",
       "\n",
       "    .dataframe tbody tr th {\n",
       "        vertical-align: top;\n",
       "    }\n",
       "\n",
       "    .dataframe thead th {\n",
       "        text-align: right;\n",
       "    }\n",
       "</style>\n",
       "<table border=\"1\" class=\"dataframe\">\n",
       "  <thead>\n",
       "    <tr style=\"text-align: right;\">\n",
       "      <th></th>\n",
       "      <th>1x1</th>\n",
       "      <th>1x2</th>\n",
       "      <th>1x3</th>\n",
       "      <th>1x4</th>\n",
       "      <th>1x5</th>\n",
       "      <th>1x6</th>\n",
       "      <th>1x7</th>\n",
       "      <th>1x8</th>\n",
       "      <th>1x9</th>\n",
       "      <th>1x10</th>\n",
       "      <th>...</th>\n",
       "      <th>28x19</th>\n",
       "      <th>28x20</th>\n",
       "      <th>28x21</th>\n",
       "      <th>28x22</th>\n",
       "      <th>28x23</th>\n",
       "      <th>28x24</th>\n",
       "      <th>28x25</th>\n",
       "      <th>28x26</th>\n",
       "      <th>28x27</th>\n",
       "      <th>28x28</th>\n",
       "    </tr>\n",
       "  </thead>\n",
       "  <tbody>\n",
       "    <tr>\n",
       "      <th>0</th>\n",
       "      <td>0</td>\n",
       "      <td>0</td>\n",
       "      <td>0</td>\n",
       "      <td>0</td>\n",
       "      <td>0</td>\n",
       "      <td>0</td>\n",
       "      <td>0</td>\n",
       "      <td>0</td>\n",
       "      <td>0</td>\n",
       "      <td>0</td>\n",
       "      <td>...</td>\n",
       "      <td>-254</td>\n",
       "      <td>-254</td>\n",
       "      <td>-253</td>\n",
       "      <td>-253</td>\n",
       "      <td>-254</td>\n",
       "      <td>-62</td>\n",
       "      <td>0</td>\n",
       "      <td>0</td>\n",
       "      <td>0</td>\n",
       "      <td>0</td>\n",
       "    </tr>\n",
       "    <tr>\n",
       "      <th>1</th>\n",
       "      <td>0</td>\n",
       "      <td>0</td>\n",
       "      <td>0</td>\n",
       "      <td>0</td>\n",
       "      <td>0</td>\n",
       "      <td>0</td>\n",
       "      <td>0</td>\n",
       "      <td>0</td>\n",
       "      <td>0</td>\n",
       "      <td>0</td>\n",
       "      <td>...</td>\n",
       "      <td>-254</td>\n",
       "      <td>-254</td>\n",
       "      <td>-253</td>\n",
       "      <td>-253</td>\n",
       "      <td>-254</td>\n",
       "      <td>-62</td>\n",
       "      <td>0</td>\n",
       "      <td>0</td>\n",
       "      <td>0</td>\n",
       "      <td>0</td>\n",
       "    </tr>\n",
       "    <tr>\n",
       "      <th>2</th>\n",
       "      <td>0</td>\n",
       "      <td>0</td>\n",
       "      <td>0</td>\n",
       "      <td>0</td>\n",
       "      <td>0</td>\n",
       "      <td>0</td>\n",
       "      <td>0</td>\n",
       "      <td>0</td>\n",
       "      <td>0</td>\n",
       "      <td>0</td>\n",
       "      <td>...</td>\n",
       "      <td>-254</td>\n",
       "      <td>-254</td>\n",
       "      <td>-253</td>\n",
       "      <td>-253</td>\n",
       "      <td>-254</td>\n",
       "      <td>-62</td>\n",
       "      <td>0</td>\n",
       "      <td>0</td>\n",
       "      <td>0</td>\n",
       "      <td>0</td>\n",
       "    </tr>\n",
       "    <tr>\n",
       "      <th>3</th>\n",
       "      <td>0</td>\n",
       "      <td>0</td>\n",
       "      <td>0</td>\n",
       "      <td>0</td>\n",
       "      <td>0</td>\n",
       "      <td>0</td>\n",
       "      <td>0</td>\n",
       "      <td>0</td>\n",
       "      <td>0</td>\n",
       "      <td>0</td>\n",
       "      <td>...</td>\n",
       "      <td>-254</td>\n",
       "      <td>-254</td>\n",
       "      <td>-253</td>\n",
       "      <td>-253</td>\n",
       "      <td>-254</td>\n",
       "      <td>-62</td>\n",
       "      <td>0</td>\n",
       "      <td>0</td>\n",
       "      <td>0</td>\n",
       "      <td>0</td>\n",
       "    </tr>\n",
       "    <tr>\n",
       "      <th>4</th>\n",
       "      <td>0</td>\n",
       "      <td>0</td>\n",
       "      <td>0</td>\n",
       "      <td>0</td>\n",
       "      <td>0</td>\n",
       "      <td>0</td>\n",
       "      <td>0</td>\n",
       "      <td>0</td>\n",
       "      <td>0</td>\n",
       "      <td>0</td>\n",
       "      <td>...</td>\n",
       "      <td>-254</td>\n",
       "      <td>-254</td>\n",
       "      <td>-253</td>\n",
       "      <td>-253</td>\n",
       "      <td>-254</td>\n",
       "      <td>-62</td>\n",
       "      <td>0</td>\n",
       "      <td>0</td>\n",
       "      <td>0</td>\n",
       "      <td>0</td>\n",
       "    </tr>\n",
       "  </tbody>\n",
       "</table>\n",
       "<p>5 rows × 784 columns</p>\n",
       "</div>"
      ],
      "text/plain": [
       "   1x1  1x2  1x3  1x4  1x5  1x6  1x7  1x8  1x9  1x10  ...  28x19  28x20  \\\n",
       "0    0    0    0    0    0    0    0    0    0     0  ...   -254   -254   \n",
       "1    0    0    0    0    0    0    0    0    0     0  ...   -254   -254   \n",
       "2    0    0    0    0    0    0    0    0    0     0  ...   -254   -254   \n",
       "3    0    0    0    0    0    0    0    0    0     0  ...   -254   -254   \n",
       "4    0    0    0    0    0    0    0    0    0     0  ...   -254   -254   \n",
       "\n",
       "   28x21  28x22  28x23  28x24  28x25  28x26  28x27  28x28  \n",
       "0   -253   -253   -254    -62      0      0      0      0  \n",
       "1   -253   -253   -254    -62      0      0      0      0  \n",
       "2   -253   -253   -254    -62      0      0      0      0  \n",
       "3   -253   -253   -254    -62      0      0      0      0  \n",
       "4   -253   -253   -254    -62      0      0      0      0  \n",
       "\n",
       "[5 rows x 784 columns]"
      ]
     },
     "execution_count": 43,
     "metadata": {},
     "output_type": "execute_result"
    }
   ],
   "source": [
    "raw_data=raw_data-raw_data.max()\n",
    "#raw_data=raw_data/raw_data.std()[raw_data.std()!=0]\n",
    "raw_data.head()"
   ]
  },
  {
   "cell_type": "code",
   "execution_count": 44,
   "metadata": {
    "colab": {},
    "colab_type": "code",
    "id": "MbetB4NLjAze"
   },
   "outputs": [],
   "source": [
    "X = np.array(raw_data)"
   ]
  },
  {
   "cell_type": "code",
   "execution_count": 45,
   "metadata": {
    "colab": {
     "base_uri": "https://localhost:8080/",
     "height": 35
    },
    "colab_type": "code",
    "id": "ZSZz77yKjEXe",
    "outputId": "66ee78bb-eaeb-430b-eb80-b2a8ab613469"
   },
   "outputs": [
    {
     "data": {
      "text/plain": [
       "(60000, 784)"
      ]
     },
     "execution_count": 45,
     "metadata": {},
     "output_type": "execute_result"
    }
   ],
   "source": [
    "X.shape"
   ]
  },
  {
   "cell_type": "code",
   "execution_count": 46,
   "metadata": {
    "colab": {},
    "colab_type": "code",
    "id": "bVVZ6sC6jIss"
   },
   "outputs": [],
   "source": [
    "B = 128"
   ]
  },
  {
   "cell_type": "code",
   "execution_count": 47,
   "metadata": {
    "colab": {},
    "colab_type": "code",
    "id": "NNd4A3mhjRYI"
   },
   "outputs": [],
   "source": [
    "import tensorflow as tf"
   ]
  },
  {
   "cell_type": "code",
   "execution_count": 60,
   "metadata": {
    "colab": {},
    "colab_type": "code",
    "id": "yYljn9tOjTXL"
   },
   "outputs": [],
   "source": [
    "neurons = [X.shape[1],X.shape[1],X.shape[1],X.shape[1],X.shape[1],C.shape[1]]"
   ]
  },
  {
   "cell_type": "code",
   "execution_count": 61,
   "metadata": {
    "colab": {},
    "colab_type": "code",
    "id": "ya6PSI2Wj_2B"
   },
   "outputs": [],
   "source": [
    "layer0_activations = tf.placeholder(dtype=tf.float32,shape=[None,X.shape[1]])"
   ]
  },
  {
   "cell_type": "code",
   "execution_count": 62,
   "metadata": {
    "colab": {},
    "colab_type": "code",
    "id": "0wRyTun9lCOW"
   },
   "outputs": [],
   "source": [
    "layer_activations = [layer0_activations]\n",
    "\n",
    "layer_params = [0]\n",
    "\n",
    "layer_params0=[0]"
   ]
  },
  {
   "cell_type": "code",
   "execution_count": 78,
   "metadata": {
    "colab": {},
    "colab_type": "code",
    "id": "ZnzPZ2J3le_L"
   },
   "outputs": [],
   "source": [
    "for i in range(len(neurons)-2):\n",
    "    layer_thetas = tf.Variable(initial_value=tf.random_normal(shape=[neurons[i],neurons[i+1]]))\n",
    "    \n",
    "    layer_theta0=tf.Variable(initial_value=tf.random_normal(shape=[1,neurons[i+1]]))\n",
    "    \n",
    "    layer_params.append(layer_thetas)\n",
    "    \n",
    "    layer_params0.append(layer_theta0)\n",
    "    \n",
    "    layer_output = tf.sigmoid(tf.matmul(layer_activations[i],layer_params[i+1]))+layer_params0[i+1]\n",
    "    \n",
    "    layer_activations.append(layer_output)\n",
    "    \n",
    "layer_thetas=tf.Variable(initial_value=tf.random_normal(shape=[X.shape[1],C.shape[1]]))\n",
    "\n",
    "layer_theta0=tf.Variable(initial_value=tf.random_normal(shape=[1,neurons[5]]))\n",
    "\n",
    "layer_output = tf.nn.softmax(tf.matmul(layer_activations[4],layer_thetas))+layer_theta0\n",
    "    \n",
    "nn_out = layer_output"
   ]
  },
  {
   "cell_type": "code",
   "execution_count": 79,
   "metadata": {
    "colab": {
     "base_uri": "https://localhost:8080/",
     "height": 35
    },
    "colab_type": "code",
    "id": "ntOKKBpuxf8y",
    "outputId": "dc2e7794-a215-4222-ed91-85f3a0383047"
   },
   "outputs": [
    {
     "name": "stdout",
     "output_type": "stream",
     "text": [
      "Tensor(\"add_5:0\", shape=(?, 10), dtype=float32)\n"
     ]
    }
   ],
   "source": [
    "print(nn_out)"
   ]
  },
  {
   "cell_type": "code",
   "execution_count": 80,
   "metadata": {
    "colab": {},
    "colab_type": "code",
    "id": "fw0V4DLEoQaC"
   },
   "outputs": [],
   "source": [
    "true_labels = tf.placeholder(dtype=tf.float32,shape=[None,C.shape[1]])"
   ]
  },
  {
   "cell_type": "code",
   "execution_count": 81,
   "metadata": {
    "colab": {},
    "colab_type": "code",
    "id": "zWkyAUDQozTa"
   },
   "outputs": [],
   "source": [
    "cross_entropy_per_example = tf.nn.softmax_cross_entropy_with_logits(labels=true_labels,logits=nn_out)\n",
    "\n",
    "avg_cross_entropy_loss = tf.reduce_mean(cross_entropy_per_example) "
   ]
  },
  {
   "cell_type": "code",
   "execution_count": 88,
   "metadata": {
    "colab": {},
    "colab_type": "code",
    "id": "zFrHG6Cnqy64"
   },
   "outputs": [],
   "source": [
    "#gradient_descent_step = tf.train.GradientDescentOptimizer(learning_rate=0.01)\n",
    "gradient_descent_step = tf.train.AdamOptimizer()"
   ]
  },
  {
   "cell_type": "code",
   "execution_count": 89,
   "metadata": {
    "colab": {},
    "colab_type": "code",
    "id": "-yUwDBLUrStC"
   },
   "outputs": [],
   "source": [
    "minimization = gradient_descent_step.minimize(avg_cross_entropy_loss)"
   ]
  },
  {
   "cell_type": "code",
   "execution_count": 90,
   "metadata": {
    "colab": {
     "base_uri": "https://localhost:8080/",
     "height": 938
    },
    "colab_type": "code",
    "id": "jgH3BhpKrn1a",
    "outputId": "1d15f434-b41a-4c8f-c19d-e64e2e8d51ba"
   },
   "outputs": [
    {
     "name": "stdout",
     "output_type": "stream",
     "text": [
      "Epoch # = 1 Loss = [2.5739632]\n",
      "Epoch # = 2 Loss = [2.4436977]\n",
      "Epoch # = 3 Loss = [2.350563]\n",
      "Epoch # = 4 Loss = [2.3382487]\n",
      "Epoch # = 5 Loss = [2.2834897]\n",
      "Epoch # = 6 Loss = [2.3201056]\n",
      "Epoch # = 7 Loss = [2.2980466]\n",
      "Epoch # = 8 Loss = [2.3043244]\n",
      "Epoch # = 9 Loss = [2.2962515]\n",
      "Epoch # = 10 Loss = [2.2926595]\n",
      "Epoch # = 11 Loss = [2.3036456]\n",
      "Epoch # = 12 Loss = [2.2921386]\n",
      "Epoch # = 13 Loss = [2.3021643]\n",
      "Epoch # = 14 Loss = [2.2953255]\n",
      "Epoch # = 15 Loss = [2.2953594]\n",
      "Epoch # = 16 Loss = [2.3063905]\n",
      "Epoch # = 17 Loss = [2.3040063]\n",
      "Epoch # = 18 Loss = [2.2887032]\n",
      "Epoch # = 19 Loss = [2.2881098]\n",
      "Epoch # = 20 Loss = [2.305678]\n",
      "Epoch # = 21 Loss = [2.2957635]\n",
      "Epoch # = 22 Loss = [2.3000476]\n",
      "Epoch # = 23 Loss = [2.3055382]\n",
      "Epoch # = 24 Loss = [2.3058505]\n",
      "Epoch # = 25 Loss = [2.3025062]\n",
      "Epoch # = 26 Loss = [2.3079023]\n",
      "Epoch # = 27 Loss = [2.3053026]\n",
      "Epoch # = 28 Loss = [2.2894492]\n",
      "Epoch # = 29 Loss = [2.3052008]\n",
      "Epoch # = 30 Loss = [2.3041818]\n",
      "Epoch # = 31 Loss = [2.309355]\n",
      "Epoch # = 32 Loss = [2.3037183]\n",
      "Epoch # = 33 Loss = [2.3030195]\n",
      "Epoch # = 34 Loss = [2.2963486]\n",
      "Epoch # = 35 Loss = [2.305748]\n",
      "Epoch # = 36 Loss = [2.301036]\n",
      "Epoch # = 37 Loss = [2.3002553]\n",
      "Epoch # = 38 Loss = [2.2996454]\n",
      "Epoch # = 39 Loss = [2.3016343]\n",
      "Epoch # = 40 Loss = [2.296731]\n",
      "Epoch # = 41 Loss = [2.2952938]\n",
      "Epoch # = 42 Loss = [2.301116]\n",
      "Epoch # = 43 Loss = [2.3012776]\n",
      "Epoch # = 44 Loss = [2.3049383]\n",
      "Epoch # = 45 Loss = [2.2997136]\n",
      "Epoch # = 46 Loss = [2.2989812]\n",
      "Epoch # = 47 Loss = [2.3015723]\n",
      "Epoch # = 48 Loss = [2.3012354]\n",
      "Epoch # = 49 Loss = [2.3078027]\n",
      "Epoch # = 50 Loss = [2.304621]\n",
      "Epoch # = 51 Loss = [2.3093414]\n",
      "Epoch # = 52 Loss = [2.3018155]\n",
      "Epoch # = 53 Loss = [2.309855]\n",
      "Epoch # = 54 Loss = [2.3048363]\n",
      "Epoch # = 55 Loss = [2.3026311]\n",
      "Epoch # = 56 Loss = [2.2918017]\n",
      "Epoch # = 57 Loss = [2.2914135]\n",
      "Epoch # = 58 Loss = [2.3000593]\n",
      "Epoch # = 59 Loss = [2.3017712]\n",
      "Epoch # = 60 Loss = [2.2915983]\n",
      "Epoch # = 61 Loss = [2.297295]\n",
      "Epoch # = 62 Loss = [2.3028376]\n",
      "Epoch # = 63 Loss = [2.2915988]\n",
      "Epoch # = 64 Loss = [2.299089]\n",
      "Epoch # = 65 Loss = [2.2992344]\n",
      "Epoch # = 66 Loss = [2.2999992]\n",
      "Epoch # = 67 Loss = [2.3013935]\n",
      "Epoch # = 68 Loss = [2.3066869]\n",
      "Epoch # = 69 Loss = [2.3050532]\n",
      "Epoch # = 70 Loss = [2.2963731]\n",
      "Epoch # = 71 Loss = [2.3063903]\n",
      "Epoch # = 72 Loss = [2.2973697]\n",
      "Epoch # = 73 Loss = [2.3005185]\n",
      "Epoch # = 74 Loss = [2.3058808]\n",
      "Epoch # = 75 Loss = [2.300478]\n",
      "Epoch # = 76 Loss = [2.297053]\n",
      "Epoch # = 77 Loss = [2.3058767]\n",
      "Epoch # = 78 Loss = [2.2965732]\n",
      "Epoch # = 79 Loss = [2.3044555]\n",
      "Epoch # = 80 Loss = [2.3129692]\n",
      "Epoch # = 81 Loss = [2.2949085]\n",
      "Epoch # = 82 Loss = [2.2962995]\n",
      "Epoch # = 83 Loss = [2.2930965]\n",
      "Epoch # = 84 Loss = [2.3078175]\n",
      "Epoch # = 85 Loss = [2.29796]\n",
      "Epoch # = 86 Loss = [2.3023696]\n",
      "Epoch # = 87 Loss = [2.3092186]\n",
      "Epoch # = 88 Loss = [2.3072758]\n",
      "Epoch # = 89 Loss = [2.3024848]\n",
      "Epoch # = 90 Loss = [2.2982624]\n",
      "Epoch # = 91 Loss = [2.2994418]\n",
      "Epoch # = 92 Loss = [2.304378]\n",
      "Epoch # = 93 Loss = [2.3050125]\n",
      "Epoch # = 94 Loss = [2.304812]\n",
      "Epoch # = 95 Loss = [2.3017077]\n",
      "Epoch # = 96 Loss = [2.3014424]\n",
      "Epoch # = 97 Loss = [2.3041308]\n",
      "Epoch # = 98 Loss = [2.3009462]\n",
      "Epoch # = 99 Loss = [2.3049126]\n",
      "Epoch # = 100 Loss = [2.30661]\n",
      "Epoch # = 101 Loss = [2.3038068]\n",
      "Epoch # = 102 Loss = [2.3051872]\n",
      "Epoch # = 103 Loss = [2.3047233]\n",
      "Epoch # = 104 Loss = [2.303442]\n",
      "Epoch # = 105 Loss = [2.2965508]\n",
      "Epoch # = 106 Loss = [2.3028765]\n",
      "Epoch # = 107 Loss = [2.3054652]\n",
      "Epoch # = 108 Loss = [2.2960925]\n",
      "Epoch # = 109 Loss = [2.303927]\n",
      "Epoch # = 110 Loss = [2.3040178]\n",
      "Epoch # = 111 Loss = [2.303144]\n",
      "Epoch # = 112 Loss = [2.3009038]\n",
      "Epoch # = 113 Loss = [2.3064146]\n",
      "Epoch # = 114 Loss = [2.295332]\n",
      "Epoch # = 115 Loss = [2.3053882]\n",
      "Epoch # = 116 Loss = [2.3052778]\n",
      "Epoch # = 117 Loss = [2.2982616]\n",
      "Epoch # = 118 Loss = [2.3012772]\n",
      "Epoch # = 119 Loss = [2.302206]\n",
      "Epoch # = 120 Loss = [2.2966366]\n",
      "Epoch # = 121 Loss = [2.3069453]\n",
      "Epoch # = 122 Loss = [2.3140876]\n",
      "Epoch # = 123 Loss = [2.2978518]\n",
      "Epoch # = 124 Loss = [2.2997642]\n",
      "Epoch # = 125 Loss = [2.3007143]\n",
      "Epoch # = 126 Loss = [2.3092434]\n",
      "Epoch # = 127 Loss = [2.300971]\n",
      "Epoch # = 128 Loss = [2.3039372]\n",
      "Epoch # = 129 Loss = [2.2963886]\n",
      "Epoch # = 130 Loss = [2.3117192]\n",
      "Epoch # = 131 Loss = [2.2894874]\n",
      "Epoch # = 132 Loss = [2.3002365]\n",
      "Epoch # = 133 Loss = [2.2953138]\n",
      "Epoch # = 134 Loss = [2.3065715]\n",
      "Epoch # = 135 Loss = [2.29631]\n",
      "Epoch # = 136 Loss = [2.3006268]\n",
      "Epoch # = 137 Loss = [2.2952993]\n",
      "Epoch # = 138 Loss = [2.2947104]\n",
      "Epoch # = 139 Loss = [2.2994885]\n",
      "Epoch # = 140 Loss = [2.3027997]\n",
      "Epoch # = 141 Loss = [2.2948012]\n",
      "Epoch # = 142 Loss = [2.304175]\n",
      "Epoch # = 143 Loss = [2.298007]\n",
      "Epoch # = 144 Loss = [2.309311]\n",
      "Epoch # = 145 Loss = [2.3038917]\n",
      "Epoch # = 146 Loss = [2.2947507]\n",
      "Epoch # = 147 Loss = [2.3092277]\n",
      "Epoch # = 148 Loss = [2.3020587]\n",
      "Epoch # = 149 Loss = [2.3011632]\n",
      "Epoch # = 150 Loss = [2.2906709]\n",
      "Epoch # = 151 Loss = [2.2972906]\n",
      "Epoch # = 152 Loss = [2.3022761]\n",
      "Epoch # = 153 Loss = [2.3026345]\n",
      "Epoch # = 154 Loss = [2.3011339]\n",
      "Epoch # = 155 Loss = [2.2941384]\n",
      "Epoch # = 156 Loss = [2.3087792]\n",
      "Epoch # = 157 Loss = [2.2986717]\n",
      "Epoch # = 158 Loss = [2.300674]\n",
      "Epoch # = 159 Loss = [2.2975478]\n",
      "Epoch # = 160 Loss = [2.3032684]\n",
      "Epoch # = 161 Loss = [2.3032777]\n",
      "Epoch # = 162 Loss = [2.29703]\n",
      "Epoch # = 163 Loss = [2.2924438]\n",
      "Epoch # = 164 Loss = [2.3091197]\n",
      "Epoch # = 165 Loss = [2.2903438]\n",
      "Epoch # = 166 Loss = [2.3074884]\n",
      "Epoch # = 167 Loss = [2.297248]\n",
      "Epoch # = 168 Loss = [2.295015]\n",
      "Epoch # = 169 Loss = [2.3000107]\n",
      "Epoch # = 170 Loss = [2.2930295]\n",
      "Epoch # = 171 Loss = [2.2982793]\n",
      "Epoch # = 172 Loss = [2.2894897]\n",
      "Epoch # = 173 Loss = [2.301134]\n",
      "Epoch # = 174 Loss = [2.3095403]\n",
      "Epoch # = 175 Loss = [2.3038716]\n",
      "Epoch # = 176 Loss = [2.295941]\n",
      "Epoch # = 177 Loss = [2.293898]\n",
      "Epoch # = 178 Loss = [2.3020563]\n",
      "Epoch # = 179 Loss = [2.2962258]\n",
      "Epoch # = 180 Loss = [2.3025837]\n",
      "Epoch # = 181 Loss = [2.2921972]\n",
      "Epoch # = 182 Loss = [2.2952368]\n",
      "Epoch # = 183 Loss = [2.305676]\n",
      "Epoch # = 184 Loss = [2.3065243]\n",
      "Epoch # = 185 Loss = [2.3015811]\n",
      "Epoch # = 186 Loss = [2.295869]\n",
      "Epoch # = 187 Loss = [2.297927]\n",
      "Epoch # = 188 Loss = [2.303615]\n",
      "Epoch # = 189 Loss = [2.309214]\n",
      "Epoch # = 190 Loss = [2.3070202]\n",
      "Epoch # = 191 Loss = [2.3006716]\n",
      "Epoch # = 192 Loss = [2.3009226]\n",
      "Epoch # = 193 Loss = [2.2928898]\n",
      "Epoch # = 194 Loss = [2.301283]\n",
      "Epoch # = 195 Loss = [2.304413]\n",
      "Epoch # = 196 Loss = [2.296923]\n",
      "Epoch # = 197 Loss = [2.29945]\n",
      "Epoch # = 198 Loss = [2.3038328]\n",
      "Epoch # = 199 Loss = [2.3000572]\n",
      "Epoch # = 200 Loss = [2.3054144]\n"
     ]
    }
   ],
   "source": [
    "iterations_per_epoch = int(X.shape[0]/B)\n",
    "\n",
    "epoch = 200\n",
    "\n",
    "loss=[]\n",
    "iteration=[-1]\n",
    "epoch_list=[]\n",
    "\n",
    "with tf.Session() as s:\n",
    "    s.run(tf.global_variables_initializer())\n",
    "    for i in range(0,epoch*iterations_per_epoch):\n",
    "\n",
    "        random_indices = np.random.choice(np.arange(0,X.shape[0]),size=B,replace=False)\n",
    "\n",
    "        data_mini_batch = X[random_indices]\n",
    "\n",
    "        labels_mini_batch = C[random_indices]\n",
    "\n",
    "        data2feed = {layer0_activations:data_mini_batch,true_labels:labels_mini_batch}\n",
    "\n",
    "        s.run([minimization],feed_dict=data2feed)\n",
    "\n",
    "        loss_fn_value = s.run([avg_cross_entropy_loss],feed_dict=data2feed)\n",
    "        \n",
    "        loss.append(loss_fn_value)\n",
    "        iteration.append(iteration[-1]+1)\n",
    "        \n",
    "        if (i+1) % iterations_per_epoch == 0:\n",
    "            epoch_number = int((i+1)/iterations_per_epoch)\n",
    "            epoch_list.append(epoch_number)\n",
    "            print(\"Epoch # =\",epoch_number,\"Loss =\",loss_fn_value)"
   ]
  },
  {
   "cell_type": "code",
   "execution_count": 91,
   "metadata": {
    "colab": {},
    "colab_type": "code",
    "id": "2jg44lDVtS1t"
   },
   "outputs": [],
   "source": [
    "import matplotlib.pyplot as plt"
   ]
  },
  {
   "cell_type": "code",
   "execution_count": 92,
   "metadata": {},
   "outputs": [
    {
     "data": {
      "text/plain": [
       "[<matplotlib.lines.Line2D at 0x1ea21e545f8>]"
      ]
     },
     "execution_count": 92,
     "metadata": {},
     "output_type": "execute_result"
    },
    {
     "data": {
      "image/png": "[encoded data removed]",
      "text/plain": [
       "<Figure size 432x288 with 1 Axes>"
      ]
     },
     "metadata": {
      "needs_background": "light"
     },
     "output_type": "display_data"
    }
   ],
   "source": [
    "plt.plot(iteration[1:],loss)"
   ]
  },
  {
   "cell_type": "code",
   "execution_count": 93,
   "metadata": {},
   "outputs": [
    {
     "data": {
      "text/plain": [
       "[2.2704682]"
      ]
     },
     "execution_count": 93,
     "metadata": {},
     "output_type": "execute_result"
    }
   ],
   "source": [
    "min(loss)"
   ]
  }
 ],
 "metadata": {
  "accelerator": "GPU",
  "colab": {
   "name": "Untitled8.ipynb",
   "provenance": []
  },
  "kernelspec": {
   "display_name": "Python 3",
   "language": "python",
   "name": "python3"
  },
  "language_info": {
   "codemirror_mode": {
    "name": "ipython",
    "version": 3
   },
   "file_extension": ".py",
   "mimetype": "text/x-python",
   "name": "python",
   "nbconvert_exporter": "python",
   "pygments_lexer": "ipython3",
   "version": "3.6.9"
  }
 },
 "nbformat": 4,
 "nbformat_minor": 1
}
