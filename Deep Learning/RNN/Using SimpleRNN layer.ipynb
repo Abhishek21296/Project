{
 "cells": [
  {
   "cell_type": "code",
   "execution_count": 1,
   "metadata": {},
   "outputs": [],
   "source": [
    "import numpy as np"
   ]
  },
  {
   "cell_type": "code",
   "execution_count": 2,
   "metadata": {},
   "outputs": [],
   "source": [
    "import tensorflow.keras as keras"
   ]
  },
  {
   "cell_type": "code",
   "execution_count": 3,
   "metadata": {},
   "outputs": [],
   "source": [
    "import os"
   ]
  },
  {
   "cell_type": "code",
   "execution_count": 4,
   "metadata": {},
   "outputs": [],
   "source": [
    "test_dir=os.path.join(r'E:\\aclImdb','test')"
   ]
  },
  {
   "cell_type": "code",
   "execution_count": 5,
   "metadata": {},
   "outputs": [],
   "source": [
    "labels=[]\n",
    "texts=[]\n",
    "for label_type in ['neg','pos']:\n",
    "    dir_name=os.path.join(test_dir,label_type)\n",
    "    \n",
    "    for file_name in os.listdir(dir_name):\n",
    "        if file_name[-4:]=='.txt':\n",
    "            f=open(os.path.join(dir_name,file_name),encoding='utf-8')\n",
    "            texts.append(f.read())\n",
    "            f.close\n",
    "            if label_type=='neg':\n",
    "                labels.append(0)\n",
    "            else:\n",
    "                labels.append(1)\n",
    "        "
   ]
  },
  {
   "cell_type": "code",
   "execution_count": 6,
   "metadata": {},
   "outputs": [
    {
     "data": {
      "text/plain": [
       "17243"
      ]
     },
     "execution_count": 6,
     "metadata": {},
     "output_type": "execute_result"
    }
   ],
   "source": [
    "len(texts)"
   ]
  },
  {
   "cell_type": "code",
   "execution_count": 7,
   "metadata": {},
   "outputs": [],
   "source": [
    "maxlen=100 #Cuts off review after 100 words\n",
    "training_sample=10000 #Train on these many samples\n",
    "validation_samples=7243\n",
    "max_words=10000 #considers only top 10000 words"
   ]
  },
  {
   "cell_type": "code",
   "execution_count": 8,
   "metadata": {},
   "outputs": [],
   "source": [
    "tokenizer=keras.preprocessing.text.Tokenizer(num_words=max_words)\n",
    "tokenizer.fit_on_texts(texts)\n",
    "sequences=tokenizer.texts_to_sequences(texts)"
   ]
  },
  {
   "cell_type": "code",
   "execution_count": 9,
   "metadata": {},
   "outputs": [],
   "source": [
    "word_index=tokenizer.word_index"
   ]
  },
  {
   "cell_type": "code",
   "execution_count": 17,
   "metadata": {},
   "outputs": [],
   "source": [
    "data=keras.preprocessing.sequence.pad_sequences(sequences,maxlen=time_steps_unroll)"
   ]
  },
  {
   "cell_type": "code",
   "execution_count": 18,
   "metadata": {},
   "outputs": [
    {
     "name": "stdout",
     "output_type": "stream",
     "text": [
      "Shape of Data Tensor: (17243, 100)\n",
      "Shape of Label Tensor: (17243,)\n"
     ]
    }
   ],
   "source": [
    "labels=np.asarray(labels)\n",
    "print('Shape of Data Tensor:',data.shape)\n",
    "print('Shape of Label Tensor:',labels.shape)"
   ]
  },
  {
   "cell_type": "code",
   "execution_count": 19,
   "metadata": {},
   "outputs": [],
   "source": [
    "indices=np.arange(data.shape[0])\n",
    "np.random.shuffle(indices)\n",
    "data=data[indices]\n",
    "labels=labels[indices]"
   ]
  },
  {
   "cell_type": "code",
   "execution_count": 13,
   "metadata": {},
   "outputs": [],
   "source": [
    "embedding_index={}\n",
    "f=open(os.path.join(r'E:\\glove.6B','glove.6B.100d.txt'),encoding='utf-8')\n",
    "for line in f:\n",
    "    values=line.split()\n",
    "    word=values[0]\n",
    "    coefs=np.asarray(values[1:],dtype='float32')\n",
    "    embedding_index[word]=coefs\n",
    "f.close()"
   ]
  },
  {
   "cell_type": "code",
   "execution_count": 14,
   "metadata": {},
   "outputs": [],
   "source": [
    "embedding_dim=100\n",
    "embedding_matrix = np.zeros((max_words, embedding_dim))\n",
    "for word, i in word_index.items():\n",
    "    if i < max_words:\n",
    "        embedding_vector = embedding_index.get(word)\n",
    "        if embedding_vector is not None:\n",
    "            embedding_matrix[i] = embedding_vector"
   ]
  },
  {
   "cell_type": "code",
   "execution_count": 16,
   "metadata": {},
   "outputs": [],
   "source": [
    "batch_size=32\n",
    "time_steps_unroll=100"
   ]
  },
  {
   "cell_type": "code",
   "execution_count": 20,
   "metadata": {},
   "outputs": [],
   "source": [
    "training_data_review=data[:int(0.7*len(data))]\n",
    "training_labels=labels[:int(0.7*len(labels))]\n",
    "validation_data=data[int(0.7*len(data)):]\n",
    "validation_labels=labels[int(0.7*len(data)):]"
   ]
  },
  {
   "cell_type": "code",
   "execution_count": 21,
   "metadata": {},
   "outputs": [],
   "source": [
    "model=keras.Sequential()\n",
    "model.add(keras.layers.Embedding(max_words,maxlen,input_length=time_steps_unroll,weights=[embedding_matrix]))\n"
   ]
  },
  {
   "cell_type": "code",
   "execution_count": 22,
   "metadata": {},
   "outputs": [],
   "source": [
    "model.add(keras.layers.SimpleRNN(maxlen))"
   ]
  },
  {
   "cell_type": "code",
   "execution_count": 23,
   "metadata": {},
   "outputs": [],
   "source": [
    "model.layers[0].trainable=False\n",
    "model.add(keras.layers.Dense(units=1,activation='sigmoid'))\n",
    "model.compile(optimizer='adam',loss='binary_crossentropy',metrics=['accuracy'])"
   ]
  },
  {
   "cell_type": "code",
   "execution_count": 24,
   "metadata": {},
   "outputs": [
    {
     "name": "stdout",
     "output_type": "stream",
     "text": [
      "_________________________________________________________________\n",
      "Layer (type)                 Output Shape              Param #   \n",
      "=================================================================\n",
      "embedding (Embedding)        (None, 100, 100)          1000000   \n",
      "_________________________________________________________________\n",
      "simple_rnn (SimpleRNN)       (None, 100)               20100     \n",
      "_________________________________________________________________\n",
      "dense (Dense)                (None, 1)                 101       \n",
      "=================================================================\n",
      "Total params: 1,020,201\n",
      "Trainable params: 20,201\n",
      "Non-trainable params: 1,000,000\n",
      "_________________________________________________________________\n"
     ]
    }
   ],
   "source": [
    "model.summary()"
   ]
  },
  {
   "cell_type": "code",
   "execution_count": 25,
   "metadata": {},
   "outputs": [
    {
     "name": "stdout",
     "output_type": "stream",
     "text": [
      "Epoch 1/50\n",
      "12070/12070 [==============================] - 8s 631us/step - loss: 0.6071 - acc: 0.7166\n",
      "Epoch 2/50\n",
      "12070/12070 [==============================] - 7s 558us/step - loss: 0.5853 - acc: 0.7271\n",
      "Epoch 3/50\n",
      "12070/12070 [==============================] - 7s 557us/step - loss: 0.5800 - acc: 0.7278\n",
      "Epoch 4/50\n",
      "12070/12070 [==============================] - 7s 559us/step - loss: 0.5739 - acc: 0.7286\n",
      "Epoch 5/50\n",
      "12070/12070 [==============================] - 7s 556us/step - loss: 0.5673 - acc: 0.7289\n",
      "Epoch 6/50\n",
      "12070/12070 [==============================] - 7s 556us/step - loss: 0.5603 - acc: 0.7321\n",
      "Epoch 7/50\n",
      "12070/12070 [==============================] - 7s 571us/step - loss: 0.5498 - acc: 0.7360\n",
      "Epoch 8/50\n",
      "12070/12070 [==============================] - 7s 560us/step - loss: 0.5388 - acc: 0.7421\n",
      "Epoch 9/50\n",
      "12070/12070 [==============================] - 7s 560us/step - loss: 0.5253 - acc: 0.7483\n",
      "Epoch 10/50\n",
      "12070/12070 [==============================] - 7s 563us/step - loss: 0.5078 - acc: 0.7604\n",
      "Epoch 11/50\n",
      "12070/12070 [==============================] - 7s 574us/step - loss: 0.4901 - acc: 0.7681\n",
      "Epoch 12/50\n",
      "12070/12070 [==============================] - 7s 559us/step - loss: 0.4838 - acc: 0.7721\n",
      "Epoch 13/50\n",
      "12070/12070 [==============================] - 7s 585us/step - loss: 0.4527 - acc: 0.7939\n",
      "Epoch 14/50\n",
      "12070/12070 [==============================] - 7s 568us/step - loss: 0.4284 - acc: 0.8060\n",
      "Epoch 15/50\n",
      "12070/12070 [==============================] - 7s 565us/step - loss: 0.4018 - acc: 0.8242\n",
      "Epoch 16/50\n",
      "12070/12070 [==============================] - 7s 593us/step - loss: 0.3727 - acc: 0.8360\n",
      "Epoch 17/50\n",
      "12070/12070 [==============================] - 7s 573us/step - loss: 0.3443 - acc: 0.8553\n",
      "Epoch 18/50\n",
      "12070/12070 [==============================] - 7s 560us/step - loss: 0.3126 - acc: 0.8699\n",
      "Epoch 19/50\n",
      "12070/12070 [==============================] - 7s 562us/step - loss: 0.2863 - acc: 0.8829\n",
      "Epoch 20/50\n",
      "12070/12070 [==============================] - 7s 561us/step - loss: 0.2508 - acc: 0.9004\n",
      "Epoch 21/50\n",
      "12070/12070 [==============================] - 7s 565us/step - loss: 0.2275 - acc: 0.9129\n",
      "Epoch 22/50\n",
      "12070/12070 [==============================] - 7s 569us/step - loss: 0.2030 - acc: 0.9276\n",
      "Epoch 23/50\n",
      "12070/12070 [==============================] - 7s 560us/step - loss: 0.1721 - acc: 0.9391\n",
      "Epoch 24/50\n",
      "12070/12070 [==============================] - 7s 581us/step - loss: 0.1565 - acc: 0.9452\n",
      "Epoch 25/50\n",
      "12070/12070 [==============================] - 7s 556us/step - loss: 0.1437 - acc: 0.9495\n",
      "Epoch 26/50\n",
      "12070/12070 [==============================] - 7s 555us/step - loss: 0.1253 - acc: 0.9603\n",
      "Epoch 27/50\n",
      "12070/12070 [==============================] - 7s 554us/step - loss: 0.1066 - acc: 0.9669\n",
      "Epoch 28/50\n",
      "12070/12070 [==============================] - 7s 554us/step - loss: 0.1054 - acc: 0.9669\n",
      "Epoch 29/50\n",
      "12070/12070 [==============================] - 7s 587us/step - loss: 0.0856 - acc: 0.9756\n",
      "Epoch 30/50\n",
      "12070/12070 [==============================] - 7s 565us/step - loss: 0.0730 - acc: 0.9827\n",
      "Epoch 31/50\n",
      "12070/12070 [==============================] - 7s 567us/step - loss: 0.0691 - acc: 0.9814\n",
      "Epoch 32/50\n",
      "12070/12070 [==============================] - 7s 562us/step - loss: 0.0618 - acc: 0.9840\n",
      "Epoch 33/50\n",
      "12070/12070 [==============================] - 7s 606us/step - loss: 0.0690 - acc: 0.9796 0s - loss: 0.0677 - acc: \n",
      "Epoch 34/50\n",
      "12070/12070 [==============================] - 7s 582us/step - loss: 0.0805 - acc: 0.9737\n",
      "Epoch 35/50\n",
      "12070/12070 [==============================] - 7s 575us/step - loss: 0.0648 - acc: 0.9814\n",
      "Epoch 36/50\n",
      "12070/12070 [==============================] - 7s 562us/step - loss: 0.0504 - acc: 0.9865\n",
      "Epoch 37/50\n",
      "12070/12070 [==============================] - 7s 561us/step - loss: 0.0393 - acc: 0.9913\n",
      "Epoch 38/50\n",
      "12070/12070 [==============================] - 7s 575us/step - loss: 0.0374 - acc: 0.9918\n",
      "Epoch 39/50\n",
      "12070/12070 [==============================] - 7s 564us/step - loss: 0.0339 - acc: 0.9924\n",
      "Epoch 40/50\n",
      "12070/12070 [==============================] - 7s 576us/step - loss: 0.0402 - acc: 0.9902\n",
      "Epoch 41/50\n",
      "12070/12070 [==============================] - 7s 553us/step - loss: 0.0492 - acc: 0.9879\n",
      "Epoch 42/50\n",
      "12070/12070 [==============================] - 7s 572us/step - loss: 0.0621 - acc: 0.9785\n",
      "Epoch 43/50\n",
      "12070/12070 [==============================] - 7s 581us/step - loss: 0.1609 - acc: 0.9428\n",
      "Epoch 44/50\n",
      "12070/12070 [==============================] - 7s 573us/step - loss: 0.4518 - acc: 0.8187\n",
      "Epoch 45/50\n",
      "12070/12070 [==============================] - 7s 575us/step - loss: 0.2466 - acc: 0.8987\n",
      "Epoch 46/50\n",
      "12070/12070 [==============================] - 7s 572us/step - loss: 0.1674 - acc: 0.9355\n",
      "Epoch 47/50\n",
      "12070/12070 [==============================] - 7s 571us/step - loss: 0.1252 - acc: 0.9582\n",
      "Epoch 48/50\n",
      "12070/12070 [==============================] - 7s 575us/step - loss: 0.2552 - acc: 0.8934\n",
      "Epoch 49/50\n",
      "12070/12070 [==============================] - 7s 570us/step - loss: 0.1326 - acc: 0.9528\n",
      "Epoch 50/50\n",
      "12070/12070 [==============================] - 7s 570us/step - loss: 0.0876 - acc: 0.9764\n"
     ]
    }
   ],
   "source": [
    "history=model.fit(training_data_review,training_labels,epochs=50,batch_size=128)"
   ]
  }
 ],
 "metadata": {
  "kernelspec": {
   "display_name": "Python 3",
   "language": "python",
   "name": "python3"
  },
  "language_info": {
   "codemirror_mode": {
    "name": "ipython",
    "version": 3
   },
   "file_extension": ".py",
   "mimetype": "text/x-python",
   "name": "python",
   "nbconvert_exporter": "python",
   "pygments_lexer": "ipython3",
   "version": "3.6.9"
  }
 },
 "nbformat": 4,
 "nbformat_minor": 2
}
