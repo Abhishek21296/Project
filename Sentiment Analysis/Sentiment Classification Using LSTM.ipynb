{
 "cells": [
  {
   "cell_type": "markdown",
   "metadata": {},
   "source": [
    "Importing the libraries"
   ]
  },
  {
   "cell_type": "code",
   "execution_count": 1,
   "metadata": {
    "colab": {},
    "colab_type": "code",
    "id": "i-QkyfWFBNHO"
   },
   "outputs": [
    {
     "name": "stderr",
     "output_type": "stream",
     "text": [
      "Using TensorFlow backend.\n",
      "C:\\Users\\lucif\\Anaconda3\\envs\\TF\\lib\\site-packages\\tensorflow\\python\\framework\\dtypes.py:523: FutureWarning: Passing (type, 1) or '1type' as a synonym of type is deprecated; in a future version of numpy, it will be understood as (type, (1,)) / '(1,)type'.\n",
      "  _np_qint8 = np.dtype([(\"qint8\", np.int8, 1)])\n",
      "C:\\Users\\lucif\\Anaconda3\\envs\\TF\\lib\\site-packages\\tensorflow\\python\\framework\\dtypes.py:524: FutureWarning: Passing (type, 1) or '1type' as a synonym of type is deprecated; in a future version of numpy, it will be understood as (type, (1,)) / '(1,)type'.\n",
      "  _np_quint8 = np.dtype([(\"quint8\", np.uint8, 1)])\n",
      "C:\\Users\\lucif\\Anaconda3\\envs\\TF\\lib\\site-packages\\tensorflow\\python\\framework\\dtypes.py:525: FutureWarning: Passing (type, 1) or '1type' as a synonym of type is deprecated; in a future version of numpy, it will be understood as (type, (1,)) / '(1,)type'.\n",
      "  _np_qint16 = np.dtype([(\"qint16\", np.int16, 1)])\n",
      "C:\\Users\\lucif\\Anaconda3\\envs\\TF\\lib\\site-packages\\tensorflow\\python\\framework\\dtypes.py:526: FutureWarning: Passing (type, 1) or '1type' as a synonym of type is deprecated; in a future version of numpy, it will be understood as (type, (1,)) / '(1,)type'.\n",
      "  _np_quint16 = np.dtype([(\"quint16\", np.uint16, 1)])\n",
      "C:\\Users\\lucif\\Anaconda3\\envs\\TF\\lib\\site-packages\\tensorflow\\python\\framework\\dtypes.py:527: FutureWarning: Passing (type, 1) or '1type' as a synonym of type is deprecated; in a future version of numpy, it will be understood as (type, (1,)) / '(1,)type'.\n",
      "  _np_qint32 = np.dtype([(\"qint32\", np.int32, 1)])\n",
      "C:\\Users\\lucif\\Anaconda3\\envs\\TF\\lib\\site-packages\\tensorflow\\python\\framework\\dtypes.py:532: FutureWarning: Passing (type, 1) or '1type' as a synonym of type is deprecated; in a future version of numpy, it will be understood as (type, (1,)) / '(1,)type'.\n",
      "  np_resource = np.dtype([(\"resource\", np.ubyte, 1)])\n"
     ]
    }
   ],
   "source": [
    "import os\n",
    "import matplotlib.pyplot as plt\n",
    "from keras import models\n",
    "from keras import layers\n",
    "from keras.preprocessing.text import Tokenizer\n",
    "from keras.preprocessing.sequence import pad_sequences\n",
    "from keras import backend as K\n",
    "import numpy as np"
   ]
  },
  {
   "cell_type": "markdown",
   "metadata": {},
   "source": [
    "Reading movie reviews and their sentiment from txt file and saving them in a list"
   ]
  },
  {
   "cell_type": "code",
   "execution_count": 2,
   "metadata": {
    "colab": {},
    "colab_type": "code",
    "id": "sGLS_fvP-S9J"
   },
   "outputs": [],
   "source": [
    "movie_reviews = []\n",
    "\n",
    "training_labels = []\n",
    "\n",
    "for binomial_label in ['pos','neg']:\n",
    "\n",
    "    base_path = os.path.join(\"C:/Users/lucif/Documents/Jupiter_Notebook/Datasets/aclImdb/train/\",binomial_label)\n",
    "\n",
    "    for one_file in os.listdir(base_path):\n",
    "\n",
    "        file_handle = open(os.path.join(base_path,one_file),encoding='utf8')\n",
    "\n",
    "        movie_reviews.append(file_handle.read())\n",
    "\n",
    "        file_handle.close()\n",
    "\n",
    "        if binomial_label == 'pos':\n",
    "\n",
    "            training_labels.append(1)\n",
    "\n",
    "        else:\n",
    "\n",
    "            training_labels.append(0)"
   ]
  },
  {
   "cell_type": "code",
   "execution_count": 3,
   "metadata": {
    "colab": {
     "base_uri": "https://localhost:8080/",
     "height": 54
    },
    "colab_type": "code",
    "id": "gj6HQapOBW_z",
    "outputId": "2db485e6-78b2-4eba-a74f-2d5992e0fc37"
   },
   "outputs": [
    {
     "data": {
      "text/plain": [
       "25000"
      ]
     },
     "execution_count": 3,
     "metadata": {},
     "output_type": "execute_result"
    }
   ],
   "source": [
    "len(movie_reviews)"
   ]
  },
  {
   "cell_type": "markdown",
   "metadata": {
    "colab": {},
    "colab_type": "code",
    "id": "fBaogouI5j-8"
   },
   "source": [
    "Setting the parameters for preprocessing the revies"
   ]
  },
  {
   "cell_type": "code",
   "execution_count": 4,
   "metadata": {
    "colab": {},
    "colab_type": "code",
    "id": "qRhfviS47kq-"
   },
   "outputs": [],
   "source": [
    "maximum_important_words = 10000"
   ]
  },
  {
   "cell_type": "code",
   "execution_count": 5,
   "metadata": {
    "colab": {},
    "colab_type": "code",
    "id": "T3aYMaVS7uEl"
   },
   "outputs": [],
   "source": [
    "time_steps_to_unroll = 100"
   ]
  },
  {
   "cell_type": "markdown",
   "metadata": {},
   "source": [
    "Creating Tokenizer object to tokenize the reviews"
   ]
  },
  {
   "cell_type": "code",
   "execution_count": 6,
   "metadata": {
    "colab": {},
    "colab_type": "code",
    "id": "6yFgsKS48Hwi"
   },
   "outputs": [],
   "source": [
    "dataset_tokenizer = Tokenizer(num_words = maximum_important_words)"
   ]
  },
  {
   "cell_type": "code",
   "execution_count": 7,
   "metadata": {
    "colab": {},
    "colab_type": "code",
    "id": "Obid5zsE8Xra"
   },
   "outputs": [],
   "source": [
    "dataset_tokenizer.fit_on_texts(movie_reviews)"
   ]
  },
  {
   "cell_type": "code",
   "execution_count": 8,
   "metadata": {
    "colab": {},
    "colab_type": "code",
    "id": "Fma6o2cU8ryV"
   },
   "outputs": [],
   "source": [
    "sequences = dataset_tokenizer.texts_to_sequences(movie_reviews)"
   ]
  },
  {
   "cell_type": "code",
   "execution_count": 9,
   "metadata": {
    "colab": {},
    "colab_type": "code",
    "id": "e4AtjKXz84ec"
   },
   "outputs": [],
   "source": [
    "word_indexes = dataset_tokenizer.word_index"
   ]
  },
  {
   "cell_type": "code",
   "execution_count": 10,
   "metadata": {
    "colab": {
     "base_uri": "https://localhost:8080/",
     "height": 34
    },
    "colab_type": "code",
    "id": "hOfEPaTC-rfB",
    "outputId": "b3837697-d851-461d-a17e-98ada6dd67ec"
   },
   "outputs": [
    {
     "name": "stdout",
     "output_type": "stream",
     "text": [
      "Unique words: 88582\n"
     ]
    }
   ],
   "source": [
    "print('Unique words:',len(word_indexes))"
   ]
  },
  {
   "cell_type": "code",
   "execution_count": 11,
   "metadata": {},
   "outputs": [
    {
     "data": {
      "text/plain": [
       "25000"
      ]
     },
     "execution_count": 11,
     "metadata": {},
     "output_type": "execute_result"
    }
   ],
   "source": [
    "len(sequences)"
   ]
  },
  {
   "cell_type": "markdown",
   "metadata": {},
   "source": [
    "Padding reviews smaller than 100 tokens"
   ]
  },
  {
   "cell_type": "code",
   "execution_count": 12,
   "metadata": {
    "colab": {},
    "colab_type": "code",
    "id": "ak-5EMX09LuK"
   },
   "outputs": [],
   "source": [
    "movie_reviews_data = pad_sequences(sequences,time_steps_to_unroll)"
   ]
  },
  {
   "cell_type": "code",
   "execution_count": 13,
   "metadata": {
    "colab": {
     "base_uri": "https://localhost:8080/",
     "height": 34
    },
    "colab_type": "code",
    "id": "tjIBamzk-_7l",
    "outputId": "e40e9b37-3937-4d4d-dbb1-7cea1a1fd861"
   },
   "outputs": [
    {
     "data": {
      "text/plain": [
       "array([[5924,  482,   69, ...,   12,    9,  215],\n",
       "       [ 111,   10,  255, ...,    5,  335,  405],\n",
       "       [   8, 7576,    1, ...,    6,  176,  396],\n",
       "       ...,\n",
       "       [   1, 2817,   30, ...,   17,   96,   75],\n",
       "       [ 107,    9,   29, ...,  260, 1195,  794],\n",
       "       [ 344,   39,  106, ...,   11,    6, 1350]])"
      ]
     },
     "execution_count": 13,
     "metadata": {},
     "output_type": "execute_result"
    }
   ],
   "source": [
    "movie_reviews_data"
   ]
  },
  {
   "cell_type": "markdown",
   "metadata": {},
   "source": [
    "Splitting the Training and Validation data"
   ]
  },
  {
   "cell_type": "code",
   "execution_count": 14,
   "metadata": {
    "colab": {},
    "colab_type": "code",
    "id": "jr1TjPhs9eKh"
   },
   "outputs": [],
   "source": [
    "training_labels = np.asarray(training_labels)\n",
    "movie_reviews_indices = np.arange(movie_reviews_data.shape[0])\n",
    "np.random.shuffle(movie_reviews_indices)\n",
    "movie_reviews_data = movie_reviews_data[movie_reviews_indices]\n",
    "training_labels = training_labels[movie_reviews_indices]\n",
    "training_movie_reviews = movie_reviews_data[:int(0.7*len(movie_reviews_data))]\n",
    "actual_training_labels = training_labels[:int(0.7*len(training_labels))]\n",
    "validation_movie_reviews = movie_reviews_data[int(0.7*len(movie_reviews_data)):]\n",
    "validation_labels = training_labels[int(0.7*len(training_labels)):]"
   ]
  },
  {
   "cell_type": "markdown",
   "metadata": {},
   "source": [
    "Reading pretrained word embedding for embedding layer"
   ]
  },
  {
   "cell_type": "code",
   "execution_count": 15,
   "metadata": {
    "colab": {
     "base_uri": "https://localhost:8080/",
     "height": 229
    },
    "colab_type": "code",
    "id": "ExcN97YfDGCR",
    "outputId": "3d89b5ce-7d2e-4fce-b39a-dca3953407fb"
   },
   "outputs": [],
   "source": [
    "embedding_indices = {}\n",
    "\n",
    "word_embeddings_file_handle = open('C:/Users/lucif/Documents/Jupiter_Notebook/WE/glove.6B.100d.txt',encoding='utf-8')\n",
    "\n",
    "for single_embedding in word_embeddings_file_handle:\n",
    "\n",
    "    pair = single_embedding.split()\n",
    "    \n",
    "    word = pair[0]\n",
    "\n",
    "    vector = np.asarray(pair[1:],dtype='float32')\n",
    "    \n",
    "\n",
    "    embedding_indices[word] = vector\n",
    "\n",
    "word_embeddings_file_handle.close()"
   ]
  },
  {
   "cell_type": "markdown",
   "metadata": {},
   "source": [
    "Creating word embedding matrix for maximum number of important words as declared above"
   ]
  },
  {
   "cell_type": "code",
   "execution_count": 16,
   "metadata": {
    "colab": {},
    "colab_type": "code",
    "id": "IEORWw_JGN6Q"
   },
   "outputs": [],
   "source": [
    "reduced_dim = 100\n",
    "\n",
    "word_embedding_matrix = np.zeros((maximum_important_words, reduced_dim))\n",
    "\n",
    "for word,i in word_indexes.items():\n",
    "\n",
    "    if i < maximum_important_words:\n",
    "\n",
    "        word_vector = embedding_indices.get(word)\n",
    "\n",
    "        if word_vector is not None:\n",
    "    \n",
    "            word_embedding_matrix[i] = word_vector"
   ]
  },
  {
   "cell_type": "markdown",
   "metadata": {},
   "source": [
    "Allocating available GPU"
   ]
  },
  {
   "cell_type": "code",
   "execution_count": 17,
   "metadata": {},
   "outputs": [
    {
     "data": {
      "text/plain": [
       "['/job:localhost/replica:0/task:0/device:GPU:0']"
      ]
     },
     "execution_count": 17,
     "metadata": {},
     "output_type": "execute_result"
    }
   ],
   "source": [
    "K.tensorflow_backend._get_available_gpus()"
   ]
  },
  {
   "cell_type": "markdown",
   "metadata": {
    "colab": {},
    "colab_type": "code",
    "id": "y6Q3OZKGMf6E"
   },
   "source": [
    "Creating model"
   ]
  },
  {
   "cell_type": "code",
   "execution_count": 18,
   "metadata": {},
   "outputs": [],
   "source": [
    "model1 = models.Sequential()\n",
    "\n",
    "model1.add(layers.Embedding(maximum_important_words,reduced_dim,input_length=time_steps_to_unroll,weights=[word_embedding_matrix]))\n",
    "\n",
    "model1.add(layers.LSTM(reduced_dim))"
   ]
  },
  {
   "cell_type": "markdown",
   "metadata": {},
   "source": [
    "Freezing Embedding layer as we are using pre-trained word embedding"
   ]
  },
  {
   "cell_type": "code",
   "execution_count": 19,
   "metadata": {},
   "outputs": [],
   "source": [
    "model1.layers[0].trainable=False"
   ]
  },
  {
   "cell_type": "code",
   "execution_count": 20,
   "metadata": {},
   "outputs": [],
   "source": [
    "model1.add(layers.Dense(units=1, activation='sigmoid'))"
   ]
  },
  {
   "cell_type": "markdown",
   "metadata": {},
   "source": [
    "Compiling the model with 'adam' optimizer"
   ]
  },
  {
   "cell_type": "code",
   "execution_count": 21,
   "metadata": {},
   "outputs": [],
   "source": [
    "model1.compile(optimizer='adam',loss='binary_crossentropy',metrics=['accuracy'])"
   ]
  },
  {
   "cell_type": "code",
   "execution_count": 22,
   "metadata": {},
   "outputs": [
    {
     "name": "stdout",
     "output_type": "stream",
     "text": [
      "_________________________________________________________________\n",
      "Layer (type)                 Output Shape              Param #   \n",
      "=================================================================\n",
      "embedding_1 (Embedding)      (None, 100, 100)          1000000   \n",
      "_________________________________________________________________\n",
      "lstm_1 (LSTM)                (None, 100)               80400     \n",
      "_________________________________________________________________\n",
      "dense_1 (Dense)              (None, 1)                 101       \n",
      "=================================================================\n",
      "Total params: 1,080,501\n",
      "Trainable params: 80,501\n",
      "Non-trainable params: 1,000,000\n",
      "_________________________________________________________________\n"
     ]
    }
   ],
   "source": [
    "model1.summary()"
   ]
  },
  {
   "cell_type": "markdown",
   "metadata": {},
   "source": [
    "Training the model"
   ]
  },
  {
   "cell_type": "code",
   "execution_count": 23,
   "metadata": {},
   "outputs": [
    {
     "name": "stdout",
     "output_type": "stream",
     "text": [
      "Train on 17500 samples, validate on 7500 samples\n",
      "Epoch 1/10\n",
      "17500/17500 [==============================] - 20s 1ms/step - loss: 0.5892 - acc: 0.6803 - val_loss: 0.5060 - val_acc: 0.7564\n",
      "Epoch 2/10\n",
      "17500/17500 [==============================] - 19s 1ms/step - loss: 0.4815 - acc: 0.7705 - val_loss: 0.4650 - val_acc: 0.7803\n",
      "Epoch 3/10\n",
      "17500/17500 [==============================] - 19s 1ms/step - loss: 0.4505 - acc: 0.7906 - val_loss: 0.4202 - val_acc: 0.8060\n",
      "Epoch 4/10\n",
      "17500/17500 [==============================] - 19s 1ms/step - loss: 0.4078 - acc: 0.8120 - val_loss: 0.4175 - val_acc: 0.8061\n",
      "Epoch 5/10\n",
      "17500/17500 [==============================] - 19s 1ms/step - loss: 0.3773 - acc: 0.8272 - val_loss: 0.3944 - val_acc: 0.8204\n",
      "Epoch 6/10\n",
      "17500/17500 [==============================] - 19s 1ms/step - loss: 0.3546 - acc: 0.8431 - val_loss: 0.3693 - val_acc: 0.8344\n",
      "Epoch 7/10\n",
      "17500/17500 [==============================] - 19s 1ms/step - loss: 0.3392 - acc: 0.8494 - val_loss: 0.3696 - val_acc: 0.8357\n",
      "Epoch 8/10\n",
      "17500/17500 [==============================] - 19s 1ms/step - loss: 0.3154 - acc: 0.8606 - val_loss: 0.3730 - val_acc: 0.8259\n",
      "Epoch 9/10\n",
      "17500/17500 [==============================] - 19s 1ms/step - loss: 0.3004 - acc: 0.8711 - val_loss: 0.3694 - val_acc: 0.8387\n",
      "Epoch 10/10\n",
      "17500/17500 [==============================] - 19s 1ms/step - loss: 0.2843 - acc: 0.8781 - val_loss: 0.3577 - val_acc: 0.8431\n"
     ]
    }
   ],
   "source": [
    "history1 = model1.fit(training_movie_reviews,actual_training_labels,epochs=10,batch_size=128,validation_data=(validation_movie_reviews,validation_labels))"
   ]
  },
  {
   "cell_type": "markdown",
   "metadata": {},
   "source": [
    "Readin the testing revies from txt files and creating the list the same way we did with training reviews"
   ]
  },
  {
   "cell_type": "code",
   "execution_count": 24,
   "metadata": {},
   "outputs": [],
   "source": [
    "testing_movie_reviews = []\n",
    "\n",
    "testing_labels = []\n",
    "\n",
    "for binomial_label in ['pos','neg']:\n",
    "\n",
    "    base_path = os.path.join(\"C:/Users/lucif/Documents/Jupiter_Notebook/Datasets/aclImdb/test/\",binomial_label)\n",
    "\n",
    "    for one_file in os.listdir(base_path):\n",
    "\n",
    "        file_handle = open(os.path.join(base_path,one_file),encoding='utf8')\n",
    "\n",
    "        testing_movie_reviews.append(file_handle.read())\n",
    "\n",
    "        file_handle.close()\n",
    "\n",
    "        if binomial_label == 'pos':\n",
    "\n",
    "            testing_labels.append(1)\n",
    "\n",
    "        else:\n",
    "\n",
    "            testing_labels.append(0)"
   ]
  },
  {
   "cell_type": "markdown",
   "metadata": {},
   "source": [
    "Tokenizing testing reviews"
   ]
  },
  {
   "cell_type": "code",
   "execution_count": 25,
   "metadata": {},
   "outputs": [],
   "source": [
    "testing_sequence=dataset_tokenizer.texts_to_sequences(testing_movie_reviews)\n",
    "testing_reviews=pad_sequences(testing_sequence,time_steps_to_unroll)"
   ]
  },
  {
   "cell_type": "code",
   "execution_count": 26,
   "metadata": {},
   "outputs": [
    {
     "data": {
      "text/plain": [
       "(25000, 100)"
      ]
     },
     "execution_count": 26,
     "metadata": {},
     "output_type": "execute_result"
    }
   ],
   "source": [
    "testing_reviews.shape"
   ]
  },
  {
   "cell_type": "markdown",
   "metadata": {},
   "source": [
    "Predicting the result"
   ]
  },
  {
   "cell_type": "code",
   "execution_count": 27,
   "metadata": {},
   "outputs": [],
   "source": [
    "y_pred=model1.predict_classes(testing_reviews,batch_size=128)"
   ]
  },
  {
   "cell_type": "code",
   "execution_count": 28,
   "metadata": {},
   "outputs": [
    {
     "data": {
      "text/plain": [
       "(25000, 1)"
      ]
     },
     "execution_count": 28,
     "metadata": {},
     "output_type": "execute_result"
    }
   ],
   "source": [
    "y_pred.shape"
   ]
  },
  {
   "cell_type": "markdown",
   "metadata": {},
   "source": [
    "Accuracy"
   ]
  },
  {
   "cell_type": "code",
   "execution_count": 29,
   "metadata": {},
   "outputs": [
    {
     "data": {
      "text/plain": [
       "84.844"
      ]
     },
     "execution_count": 29,
     "metadata": {},
     "output_type": "execute_result"
    }
   ],
   "source": [
    "np.count_nonzero(np.equal(testing_labels,list(y_pred.reshape(25000,))))*100/25000"
   ]
  },
  {
   "cell_type": "markdown",
   "metadata": {},
   "source": [
    "Loss Curve"
   ]
  },
  {
   "cell_type": "code",
   "execution_count": 30,
   "metadata": {},
   "outputs": [
    {
     "data": {
      "text/plain": [
       "[<matplotlib.lines.Line2D at 0x2c587b1e2b0>]"
      ]
     },
     "execution_count": 30,
     "metadata": {},
     "output_type": "execute_result"
    },
    {
     "data": {
      "image/png": "[encoded data removed]",
      "text/plain": [
       "<Figure size 432x288 with 1 Axes>"
      ]
     },
     "metadata": {
      "needs_background": "light"
     },
     "output_type": "display_data"
    }
   ],
   "source": [
    "plt.plot(range(len(history1.history['loss'])),history1.history['loss'])"
   ]
  }
 ],
 "metadata": {
  "colab": {
   "collapsed_sections": [],
   "name": "Sentiment_Classification_Using_RNN.ipynb",
   "provenance": []
  },
  "kernelspec": {
   "display_name": "Python 3",
   "language": "python",
   "name": "python3"
  },
  "language_info": {
   "codemirror_mode": {
    "name": "ipython",
    "version": 3
   },
   "file_extension": ".py",
   "mimetype": "text/x-python",
   "name": "python",
   "nbconvert_exporter": "python",
   "pygments_lexer": "ipython3",
   "version": "3.6.9"
  }
 },
 "nbformat": 4,
 "nbformat_minor": 1
}
